{
 "cells": [
  {
   "cell_type": "markdown",
   "metadata": {
    "slideshow": {
     "slide_type": "slide"
    }
   },
   "source": [
    "<center>\n",
    "<img src=\"./images/main_arcada.png\" style=\"width:1400px\">\n",
    "</center>"
   ]
  },
  {
   "cell_type": "markdown",
   "metadata": {
    "slideshow": {
     "slide_type": "slide"
    }
   },
   "source": [
    "## Lecture 3: Model Evaluation and Improvement\n",
    "*Resampling methods, Grid Search, Evaluation Metrics and Scoring*\n",
    "\n",
    "\n",
    ">Leonardo A. Espinosa, Researcher.\n",
    ">Email: leonardo.espinosaleal@arcada.fi\n",
    ">Personal webpage: www.espinosaleal.me"
   ]
  },
  {
   "cell_type": "markdown",
   "metadata": {
    "slideshow": {
     "slide_type": "slide"
    }
   },
   "source": [
    "# Learning goals for today\n",
    "* Understand the different methods for validating data.\n",
    "* Being able to understand the different metrics and its peculiarities."
   ]
  },
  {
   "cell_type": "markdown",
   "metadata": {
    "nbpresent": {
     "id": "39576c63-298e-4a6d-ac14-aba4e1c4d006"
    },
    "slideshow": {
     "slide_type": "slide"
    }
   },
   "source": [
    "1\\. <a href=\"#/3/1\">Resampling methods</a>\n",
    "\n",
    "2\\. <a href=\"#/14/1\">Grid Search</a>:\n",
    "   * <a href=\"#/15/1\">Simple</a>.\n",
    "   * <a href=\"#/24/1\">With cross-validation</a>.\n",
    " \n",
    "3\\. <a href=\"#/41/1\">Evaluation Metrics and Scoring</a>\n",
    "   * <a href=\"#/42/1\">Metrics for Binary Classification</a>.\n",
    "   * <a href=\"#/78/1\">Metrics for Multiclass Classification</a>.\n",
    "   * <a href=\"#/83/1\">Using Evaluation Metrics in Model Selection</a>\n",
    "   \n",
    "4\\. <a href=\"#/88/1\">Conclusions</a>\n",
    "\n",
    "5\\. <a href=\"#/91/1\">Homework</a>\n",
    "\n",
    "6\\. <a href=\"#/92/1\">Questions and Worktime</a>\n",
    "\n"
   ]
  },
  {
   "cell_type": "markdown",
   "metadata": {
    "slideshow": {
     "slide_type": "slide"
    }
   },
   "source": [
    "<center><img src=\"./images/data_squezz.jpg\" style=\"width: 1450px;\"/></center>"
   ]
  },
  {
   "cell_type": "markdown",
   "metadata": {
    "slideshow": {
     "slide_type": "slide"
    }
   },
   "source": [
    "# Resampling methods\n",
    "\n",
    "* Drawing samples from a training set and reffiting the model of interest on each sample. \n",
    "* A way to obtain additional information about the fitted model.\n",
    "\n",
    ">Model assessment: Evaluating the model performance.\n",
    "\n",
    ">Model selection: Selecting the proper level of flexibility."
   ]
  },
  {
   "cell_type": "markdown",
   "metadata": {
    "nbpresent": {
     "id": "a089a6f8-158b-483a-8f20-71af2d3f96d7"
    },
    "slideshow": {
     "slide_type": "slide"
    }
   },
   "source": [
    "# Cross-Validation\n",
    "Cross-validation is primarily a way of measuring the predictive performance of a statistical model. "
   ]
  },
  {
   "cell_type": "markdown",
   "metadata": {
    "nbpresent": {
     "id": "99fb9fd7-4894-4436-a3a4-d4c8cc4d4716"
    },
    "slideshow": {
     "slide_type": "slide"
    }
   },
   "source": [
    "### K-Fold cross-validation\n",
    "<center><img src=\"./images/04-K-fold_cv.png\" style=\"width: 750px;\"/></center>\n",
    "\n",
    "* Avoid *random* bias during selection of train and test data.\n",
    "* How sensitive is our model to the selection of the training set.\n",
    "* Computational cost is *k*."
   ]
  },
  {
   "cell_type": "markdown",
   "metadata": {
    "nbpresent": {
     "id": "1a2123db-9495-46fd-8b45-2793922819d4"
    },
    "slideshow": {
     "slide_type": "slide"
    }
   },
   "source": [
    "### Stratified k-fold cross validation\n",
    "<center><img src=\"./images/04-SK-fold_cv.png\" alt=\"Drawing\" style=\"width: 780px;\"/></center>\n",
    "\n",
    "* Keeps the proportion between classes in each fold as they are in the whole dataset.\n",
    "* Good strategy with Imbalanced datasets (but use other strategies if proportion is more than 9 to 1)."
   ]
  },
  {
   "cell_type": "markdown",
   "metadata": {
    "nbpresent": {
     "id": "865aabe8-fa7a-42c6-821e-284e7d1eac20"
    },
    "slideshow": {
     "slide_type": "slide"
    }
   },
   "source": [
    "### Leave-one-out cross-validation\n",
    "<center><img src=\"./images/04-LOO_cv.png\" alt=\"Drawing\" style=\"width: 750px;\"/></center>\n",
    "\n",
    "* Good results in small datasets.\n",
    "* Warning: Time consuming for large datasets."
   ]
  },
  {
   "cell_type": "markdown",
   "metadata": {
    "collapsed": true,
    "nbpresent": {
     "id": "4c0046b6-ffb7-4e8a-8b52-74d9acb5bb76"
    },
    "slideshow": {
     "slide_type": "slide"
    }
   },
   "source": [
    "### Shuffle-split cross-validation\n",
    "<center><img src=\"./images/04-Random_cv.png\" alt=\"Drawing\" style=\"width: 750px;\"/></center>\n",
    "* Good strategy with large datasets."
   ]
  },
  {
   "cell_type": "markdown",
   "metadata": {
    "slideshow": {
     "slide_type": "slide"
    }
   },
   "source": [
    "# Bootstrapping\n",
    "\n",
    "Quantify the uncertainty associated with a given estimator or statistical learning method.\n",
    "\n",
    "* It is *easy* to derive estimates for standard errors and confidence intervals for complex estimators.\n",
    "* It is not proven to work on finite samples. "
   ]
  },
  {
   "cell_type": "markdown",
   "metadata": {
    "slideshow": {
     "slide_type": "slide"
    }
   },
   "source": [
    "<center><img src=\"./images/bootstrap.png\" alt=\"Drawing\" style=\"width: 750px;\"/></center>\n"
   ]
  },
  {
   "cell_type": "markdown",
   "metadata": {
    "slideshow": {
     "slide_type": "slide"
    }
   },
   "source": [
    "<center><img src=\"./images/questions.png\" alt=\"Drawing\" style=\"width: 750px;\"/></center>\n"
   ]
  },
  {
   "cell_type": "markdown",
   "metadata": {
    "nbpresent": {
     "id": "7832eee9-dc9d-44f6-8fce-46ccbe3fa960"
    },
    "slideshow": {
     "slide_type": "slide"
    }
   },
   "source": [
    "# Grid Search\n",
    "\n",
    "Improve the models' generalization performance by tuning its parameters.\n"
   ]
  },
  {
   "cell_type": "markdown",
   "metadata": {
    "nbpresent": {
     "id": "20b08b8f-ef96-420c-90b7-49062d3b0f45"
    },
    "slideshow": {
     "slide_type": "slide"
    }
   },
   "source": [
    "## Simple Grid Search\n",
    "\n",
    "Using *for* loops over the parameters of a model."
   ]
  },
  {
   "cell_type": "code",
   "execution_count": 63,
   "metadata": {
    "slideshow": {
     "slide_type": "slide"
    }
   },
   "outputs": [],
   "source": [
    "%matplotlib inline\n",
    "import pandas as pd\n",
    "import matplotlib.pyplot as plt\n",
    "import numpy as np\n",
    "import mglearn\n",
    "from IPython.display import display\n",
    "\n",
    "from matplotlib import rc\n",
    "font = {'family' : 'monospace', 'weight' : 'bold', 'size'   : 25}\n",
    "rc('font', **font) \n",
    "\n",
    "plt.rcParams['figure.figsize'] = [20, 10]\n",
    "plt.rcParams['lines.linewidth'] = 5.0\n",
    "plt.rcParams['lines.markersize'] = 15.0\n",
    "\n",
    "import warnings; warnings.simplefilter('ignore')"
   ]
  },
  {
   "cell_type": "code",
   "execution_count": 64,
   "metadata": {
    "nbpresent": {
     "id": "418730a6-6d22-4878-ae29-6d4ef1572ae2"
    },
    "slideshow": {
     "slide_type": "slide"
    }
   },
   "outputs": [
    {
     "name": "stdout",
     "output_type": "stream",
     "text": [
      "Size of training set: 112 size of test set: 38\n"
     ]
    }
   ],
   "source": [
    "from sklearn.datasets import load_iris\n",
    "from sklearn.model_selection import train_test_split\n",
    "from sklearn.svm import SVC\n",
    "\n",
    "iris = load_iris()\n",
    "\n",
    "X_train, X_test, y_train, y_test = train_test_split(iris.data, iris.target, random_state=0)\n",
    "print(\"Size of training set: {} size of test set: {}\".format(X_train.shape[0], X_test.shape[0]))"
   ]
  },
  {
   "cell_type": "code",
   "execution_count": 65,
   "metadata": {
    "nbpresent": {
     "id": "a1887145-230d-4452-b425-7c659490b3ef"
    },
    "slideshow": {
     "slide_type": "slide"
    }
   },
   "outputs": [
    {
     "name": "stdout",
     "output_type": "stream",
     "text": [
      "Best score: 0.97\n",
      "Best parameters: {'C': 100, 'gamma': 0.001}\n"
     ]
    }
   ],
   "source": [
    "# naive grid search implementation\n",
    "best_score = 0\n",
    "for gamma in [0.001, 0.01, 0.1, 1, 10, 100]:\n",
    "    for C in [0.001, 0.01, 0.1, 1, 10, 100]:\n",
    "        # for each combination of parameters, train an SVC\n",
    "        svm = SVC(gamma=gamma, C=C)\n",
    "        svm.fit(X_train, y_train)\n",
    "        # evaluate the SVC on the test set\n",
    "        score = svm.score(X_test, y_test)\n",
    "        # if we got a better score, store the score and parameters\n",
    "        if score > best_score:\n",
    "            best_score = score\n",
    "            best_parameters = {'C': C, 'gamma': gamma}\n",
    "\n",
    "print(\"Best score: {:.2f}\".format(best_score))\n",
    "print(\"Best parameters: {}\".format(best_parameters))"
   ]
  },
  {
   "cell_type": "markdown",
   "metadata": {
    "collapsed": true,
    "nbpresent": {
     "id": "bcb7b795-c864-424e-9be6-684e5b2a15ff"
    },
    "slideshow": {
     "slide_type": "slide"
    }
   },
   "source": [
    "## Overfiting *parameters* and the Validation Set\n",
    "\n",
    "* We have tried different parameters and select the best ones on the *test set*.\n",
    "* Test data should not be use to assess how good is the model.\n",
    "* A new independent data set is necessary $\\to$ Validation set."
   ]
  },
  {
   "cell_type": "markdown",
   "metadata": {
    "collapsed": true,
    "nbpresent": {
     "id": "e0b9018c-8184-4eb9-ba8b-01bf3225e168"
    },
    "slideshow": {
     "slide_type": "slide"
    }
   },
   "source": [
    "<center><img src=\"./images/04-TVT_sets.png\" alt=\"Drawing\" style=\"width:1000px\" align=\"middle\"/></center>\n",
    "\n",
    "* **Training set**: build the model.\n",
    "* **Validation set**: select the parameters of the model.\n",
    "* **Test set**: evaluate the performance of the selected parameters.\n",
    "\n",
    "After selecting the best parameters using the validation set, we can rebuild a model using the parameter settings we found, but now training on both the training data and the validation data."
   ]
  },
  {
   "cell_type": "code",
   "execution_count": 66,
   "metadata": {
    "nbpresent": {
     "id": "9bd41e05-91ea-4bce-8884-cf240321fa7d"
    },
    "slideshow": {
     "slide_type": "slide"
    }
   },
   "outputs": [
    {
     "name": "stdout",
     "output_type": "stream",
     "text": [
      "Size of training set: 84 size of validation set: 28 size of test set: 38\n",
      "\n"
     ]
    }
   ],
   "source": [
    "from sklearn.svm import SVC\n",
    "\n",
    "# split data into train+validation set and test set\n",
    "X_trainval, X_test, y_trainval, y_test = train_test_split(iris.data, iris.target, random_state=0)\n",
    "\n",
    "# split train+validation set into training and validation sets\n",
    "X_train, X_valid, y_train, y_valid = train_test_split(X_trainval, y_trainval, random_state=1)\n",
    "\n",
    "print(\"Size of training set: {} size of validation set: {} size of test set:\" \n",
    "      \" {}\\n\".format(X_train.shape[0], X_valid.shape[0], X_test.shape[0]))"
   ]
  },
  {
   "cell_type": "code",
   "execution_count": 67,
   "metadata": {
    "nbpresent": {
     "id": "9c430ab5-7187-41af-b53b-ef9faeda2d13"
    },
    "slideshow": {
     "slide_type": "slide"
    }
   },
   "outputs": [],
   "source": [
    "best_score = 0\n",
    "for gamma in [0.001, 0.01, 0.1, 1, 10, 100]:\n",
    "    for C in [0.001, 0.01, 0.1, 1, 10, 100]:\n",
    "        # for each combination of parameters, train an SVC\n",
    "        svm = SVC(gamma=gamma, C=C)\n",
    "        svm.fit(X_train, y_train)\n",
    "        # evaluate the SVC on the test set\n",
    "        score = svm.score(X_valid, y_valid)\n",
    "        # if we got a better score, store the score and parameters\n",
    "        if score > best_score:\n",
    "            best_score = score\n",
    "            best_parameters = {'C': C, 'gamma': gamma}"
   ]
  },
  {
   "cell_type": "code",
   "execution_count": 68,
   "metadata": {
    "nbpresent": {
     "id": "3f6ff5ee-5ed5-4e9a-9e55-c8aa59829485"
    },
    "slideshow": {
     "slide_type": "slide"
    }
   },
   "outputs": [
    {
     "name": "stdout",
     "output_type": "stream",
     "text": [
      "Best score on validation set: 0.96\n",
      "Best parameters:  {'C': 10, 'gamma': 0.001}\n",
      "Test set score with best parameters: 0.92\n"
     ]
    }
   ],
   "source": [
    "# rebuild a model on the combined training and validation set,\n",
    "# and evaluate it on the test set\n",
    "svm = SVC(**best_parameters)\n",
    "svm.fit(X_trainval, y_trainval)\n",
    "test_score = svm.score(X_test, y_test)\n",
    "print(\"Best score on validation set: {:.2f}\".format(best_score))\n",
    "print(\"Best parameters: \", best_parameters)\n",
    "print(\"Test set score with best parameters: {:.2f}\".format(test_score))"
   ]
  },
  {
   "cell_type": "markdown",
   "metadata": {
    "collapsed": true,
    "nbpresent": {
     "id": "b2a92366-f696-4e15-a744-b45ab7986ff3"
    },
    "slideshow": {
     "slide_type": "slide"
    }
   },
   "source": [
    "## Grid Search with Cross-Validation\n",
    "\n",
    "* For a better estimate of the generalization performance. \n",
    "\n",
    "* Instead of using a single split into a training and a validation set, we can use cross-validation to evaluate the performance of each parameter combination."
   ]
  },
  {
   "cell_type": "code",
   "execution_count": 77,
   "metadata": {
    "nbpresent": {
     "id": "52e28ee0-6d22-4de4-b8cb-489b3266bd58"
    },
    "slideshow": {
     "slide_type": "slide"
    }
   },
   "outputs": [],
   "source": [
    "from sklearn.model_selection import cross_val_score\n",
    "\n",
    "for gamma in [0.001, 0.01, 0.1, 1, 10, 100]:\n",
    "    for C in [0.001, 0.01, 0.1, 1, 10, 100]:\n",
    "        # for each combination of parameters,\n",
    "        # train an SVC\n",
    "        svm = SVC(gamma=gamma, C=C)\n",
    "        # perform cross-validation\n",
    "        scores = cross_val_score(svm, X_trainval, y_trainval, cv=5)\n",
    "        # compute mean cross-validation accuracy\n",
    "        score = np.mean(scores)\n",
    "        \n",
    "        # if we got a better score, store the score and parameters\n",
    "        if score > best_score:\n",
    "            best_score = score\n",
    "            best_parameters = {'C': C, 'gamma': gamma}"
   ]
  },
  {
   "cell_type": "code",
   "execution_count": 78,
   "metadata": {
    "slideshow": {
     "slide_type": "slide"
    }
   },
   "outputs": [
    {
     "name": "stdout",
     "output_type": "stream",
     "text": [
      "Best score on validation set: 0.97\n",
      "Best parameters:  {'C': 100, 'gamma': 0.01}\n",
      "Test set score with best parameters: 0.97\n"
     ]
    }
   ],
   "source": [
    "# rebuild a model on the combined training and validation set\n",
    "svm = SVC(**best_parameters)\n",
    "svm.fit(X_trainval, y_trainval)\n",
    "\n",
    "test_score = svm.score(X_test, y_test)\n",
    "print(\"Best score on validation set: {:.2f}\".format(best_score))\n",
    "print(\"Best parameters: \", best_parameters)\n",
    "print(\"Test set score with best parameters: {:.2f}\".format(test_score))"
   ]
  },
  {
   "cell_type": "code",
   "execution_count": 79,
   "metadata": {
    "nbpresent": {
     "id": "5eef5b52-3f7b-4597-ad9e-493ea9fb6246"
    },
    "slideshow": {
     "slide_type": "slide"
    }
   },
   "outputs": [
    {
     "name": "stdout",
     "output_type": "stream",
     "text": [
      "Test set score: 0.97\n",
      "Best parameters: {'C': 120, 'gamma': 0.01}\n",
      "Best cross-validation score: 0.98\n",
      "\n",
      "Best estimator:\n",
      "SVC(C=120, cache_size=200, class_weight=None, coef0=0.0,\n",
      "    decision_function_shape='ovr', degree=3, gamma=0.01, kernel='rbf',\n",
      "    max_iter=-1, probability=False, random_state=None, shrinking=True,\n",
      "    tol=0.001, verbose=False)\n"
     ]
    }
   ],
   "source": [
    "from sklearn.model_selection import GridSearchCV\n",
    "from sklearn.svm import SVC\n",
    "\n",
    "param_grid = {'C': [0.001, 0.01, 0.1, 1, 10,120],\n",
    "              'gamma': [0.001, 0.01, 0.1, 1, 10, 100]}\n",
    "\n",
    "grid_search = GridSearchCV(SVC(), param_grid, cv=5)\n",
    "X_train, X_test, y_train, y_test = train_test_split(iris.data, iris.target, random_state=0)\n",
    "grid_search.fit(X_train, y_train)\n",
    "\n",
    "print(\"Test set score: {:.2f}\".format(grid_search.score(X_test, y_test)))\n",
    "print(\"Best parameters: {}\".format(grid_search.best_params_))\n",
    "print(\"Best cross-validation score: {:.2f}\\n\".format(grid_search.best_score_))\n",
    "print(\"Best estimator:\\n{}\".format(grid_search.best_estimator_))"
   ]
  },
  {
   "cell_type": "markdown",
   "metadata": {
    "nbpresent": {
     "id": "c11eff5e-84d0-488d-9c42-c55ed2c3a046"
    },
    "slideshow": {
     "slide_type": "fragment"
    }
   },
   "source": [
    "**best$\\underline{}$score$\\underline{}$** $\\to$ The  mean accuracy over the different splits for the parameters setting. On the training set.\n"
   ]
  },
  {
   "cell_type": "markdown",
   "metadata": {
    "nbpresent": {
     "id": "0005f353-4639-4554-905c-8f25c310c224"
    },
    "slideshow": {
     "slide_type": "slide"
    }
   },
   "source": [
    "### Analyzing the results (cv$\\underline{}$results$\\underline{}$)\n",
    "\n",
    "We can inspect the results of the cross-validated grid search."
   ]
  },
  {
   "cell_type": "code",
   "execution_count": 73,
   "metadata": {
    "nbpresent": {
     "id": "7ed9ca3a-caa0-4617-a62d-a4967e21302e"
    },
    "slideshow": {
     "slide_type": "slide"
    }
   },
   "outputs": [
    {
     "data": {
      "text/html": [
       "<div>\n",
       "<style scoped>\n",
       "    .dataframe tbody tr th:only-of-type {\n",
       "        vertical-align: middle;\n",
       "    }\n",
       "\n",
       "    .dataframe tbody tr th {\n",
       "        vertical-align: top;\n",
       "    }\n",
       "\n",
       "    .dataframe thead th {\n",
       "        text-align: right;\n",
       "    }\n",
       "</style>\n",
       "<table border=\"1\" class=\"dataframe\">\n",
       "  <thead>\n",
       "    <tr style=\"text-align: right;\">\n",
       "      <th></th>\n",
       "      <th>mean_fit_time</th>\n",
       "      <th>std_fit_time</th>\n",
       "      <th>mean_score_time</th>\n",
       "      <th>std_score_time</th>\n",
       "      <th>param_C</th>\n",
       "      <th>param_gamma</th>\n",
       "      <th>params</th>\n",
       "      <th>split0_test_score</th>\n",
       "      <th>split1_test_score</th>\n",
       "      <th>split2_test_score</th>\n",
       "      <th>split3_test_score</th>\n",
       "      <th>split4_test_score</th>\n",
       "      <th>mean_test_score</th>\n",
       "      <th>std_test_score</th>\n",
       "      <th>rank_test_score</th>\n",
       "    </tr>\n",
       "  </thead>\n",
       "  <tbody>\n",
       "    <tr>\n",
       "      <td>0</td>\n",
       "      <td>0.001544</td>\n",
       "      <td>0.000259</td>\n",
       "      <td>0.000632</td>\n",
       "      <td>0.000073</td>\n",
       "      <td>0.001</td>\n",
       "      <td>0.001</td>\n",
       "      <td>{'C': 0.001, 'gamma': 0.001}</td>\n",
       "      <td>0.375</td>\n",
       "      <td>0.347826</td>\n",
       "      <td>0.363636</td>\n",
       "      <td>0.363636</td>\n",
       "      <td>0.380952</td>\n",
       "      <td>0.366071</td>\n",
       "      <td>0.011371</td>\n",
       "      <td>22</td>\n",
       "    </tr>\n",
       "    <tr>\n",
       "      <td>1</td>\n",
       "      <td>0.001564</td>\n",
       "      <td>0.000354</td>\n",
       "      <td>0.000701</td>\n",
       "      <td>0.000133</td>\n",
       "      <td>0.001</td>\n",
       "      <td>0.01</td>\n",
       "      <td>{'C': 0.001, 'gamma': 0.01}</td>\n",
       "      <td>0.375</td>\n",
       "      <td>0.347826</td>\n",
       "      <td>0.363636</td>\n",
       "      <td>0.363636</td>\n",
       "      <td>0.380952</td>\n",
       "      <td>0.366071</td>\n",
       "      <td>0.011371</td>\n",
       "      <td>22</td>\n",
       "    </tr>\n",
       "    <tr>\n",
       "      <td>2</td>\n",
       "      <td>0.001571</td>\n",
       "      <td>0.000277</td>\n",
       "      <td>0.000699</td>\n",
       "      <td>0.000146</td>\n",
       "      <td>0.001</td>\n",
       "      <td>0.1</td>\n",
       "      <td>{'C': 0.001, 'gamma': 0.1}</td>\n",
       "      <td>0.375</td>\n",
       "      <td>0.347826</td>\n",
       "      <td>0.363636</td>\n",
       "      <td>0.363636</td>\n",
       "      <td>0.380952</td>\n",
       "      <td>0.366071</td>\n",
       "      <td>0.011371</td>\n",
       "      <td>22</td>\n",
       "    </tr>\n",
       "    <tr>\n",
       "      <td>3</td>\n",
       "      <td>0.001647</td>\n",
       "      <td>0.000368</td>\n",
       "      <td>0.000760</td>\n",
       "      <td>0.000238</td>\n",
       "      <td>0.001</td>\n",
       "      <td>1</td>\n",
       "      <td>{'C': 0.001, 'gamma': 1}</td>\n",
       "      <td>0.375</td>\n",
       "      <td>0.347826</td>\n",
       "      <td>0.363636</td>\n",
       "      <td>0.363636</td>\n",
       "      <td>0.380952</td>\n",
       "      <td>0.366071</td>\n",
       "      <td>0.011371</td>\n",
       "      <td>22</td>\n",
       "    </tr>\n",
       "    <tr>\n",
       "      <td>4</td>\n",
       "      <td>0.001143</td>\n",
       "      <td>0.000012</td>\n",
       "      <td>0.000433</td>\n",
       "      <td>0.000004</td>\n",
       "      <td>0.001</td>\n",
       "      <td>10</td>\n",
       "      <td>{'C': 0.001, 'gamma': 10}</td>\n",
       "      <td>0.375</td>\n",
       "      <td>0.347826</td>\n",
       "      <td>0.363636</td>\n",
       "      <td>0.363636</td>\n",
       "      <td>0.380952</td>\n",
       "      <td>0.366071</td>\n",
       "      <td>0.011371</td>\n",
       "      <td>22</td>\n",
       "    </tr>\n",
       "  </tbody>\n",
       "</table>\n",
       "</div>"
      ],
      "text/plain": [
       "   mean_fit_time  std_fit_time  mean_score_time  std_score_time param_C  \\\n",
       "0       0.001544      0.000259         0.000632        0.000073   0.001   \n",
       "1       0.001564      0.000354         0.000701        0.000133   0.001   \n",
       "2       0.001571      0.000277         0.000699        0.000146   0.001   \n",
       "3       0.001647      0.000368         0.000760        0.000238   0.001   \n",
       "4       0.001143      0.000012         0.000433        0.000004   0.001   \n",
       "\n",
       "  param_gamma                        params  split0_test_score  \\\n",
       "0       0.001  {'C': 0.001, 'gamma': 0.001}              0.375   \n",
       "1        0.01   {'C': 0.001, 'gamma': 0.01}              0.375   \n",
       "2         0.1    {'C': 0.001, 'gamma': 0.1}              0.375   \n",
       "3           1      {'C': 0.001, 'gamma': 1}              0.375   \n",
       "4          10     {'C': 0.001, 'gamma': 10}              0.375   \n",
       "\n",
       "   split1_test_score  split2_test_score  split3_test_score  split4_test_score  \\\n",
       "0           0.347826           0.363636           0.363636           0.380952   \n",
       "1           0.347826           0.363636           0.363636           0.380952   \n",
       "2           0.347826           0.363636           0.363636           0.380952   \n",
       "3           0.347826           0.363636           0.363636           0.380952   \n",
       "4           0.347826           0.363636           0.363636           0.380952   \n",
       "\n",
       "   mean_test_score  std_test_score  rank_test_score  \n",
       "0         0.366071        0.011371               22  \n",
       "1         0.366071        0.011371               22  \n",
       "2         0.366071        0.011371               22  \n",
       "3         0.366071        0.011371               22  \n",
       "4         0.366071        0.011371               22  "
      ]
     },
     "metadata": {},
     "output_type": "display_data"
    }
   ],
   "source": [
    "# convert to DataFrame\n",
    "results = pd.DataFrame(grid_search.cv_results_)\n",
    "# show the first 5 rows\n",
    "display(results.head())"
   ]
  },
  {
   "cell_type": "code",
   "execution_count": 74,
   "metadata": {
    "nbpresent": {
     "id": "5933f028-0f50-49f3-84dd-381ffa720c55"
    },
    "slideshow": {
     "slide_type": "slide"
    }
   },
   "outputs": [
    {
     "data": {
      "text/plain": [
       "<matplotlib.collections.PolyCollection at 0x7fa1b83c91d0>"
      ]
     },
     "execution_count": 74,
     "metadata": {},
     "output_type": "execute_result"
    },
    {
     "data": {
      "image/png": "[encoded data removed]",
      "text/plain": [
       "<Figure size 1440x720 with 1 Axes>"
      ]
     },
     "metadata": {
      "needs_background": "light"
     },
     "output_type": "display_data"
    }
   ],
   "source": [
    "scores = np.array(results.mean_test_score).reshape(6, 6)\n",
    "# plot the mean cross-validation scores\n",
    "mglearn.tools.heatmap(scores, xlabel='gamma', xticklabels=param_grid['gamma'],\n",
    "ylabel='C', yticklabels=param_grid['C'], cmap=\"viridis\")"
   ]
  },
  {
   "cell_type": "code",
   "execution_count": 75,
   "metadata": {
    "nbpresent": {
     "id": "8dc489fd-3b8f-43ac-8e47-226561ee1f8b"
    },
    "slideshow": {
     "slide_type": "slide"
    }
   },
   "outputs": [],
   "source": [
    "param_grid_linear = {'C': np.linspace(1, 2, 6),\n",
    "                     'gamma': np.linspace(1, 2, 6)}\n",
    "\n",
    "param_grid_one_log = {'C': np.linspace(1, 2, 6),\n",
    "                      'gamma': np.logspace(-3, 2, 6)}\n",
    "\n",
    "param_grid_range = {'C': np.logspace(-3, 2, 6),\n",
    "                    'gamma': np.logspace(-7, -2, 6)}"
   ]
  },
  {
   "cell_type": "code",
   "execution_count": 85,
   "metadata": {},
   "outputs": [],
   "source": [
    "svm?"
   ]
  },
  {
   "cell_type": "code",
   "execution_count": 80,
   "metadata": {
    "nbpresent": {
     "id": "458175ff-9c19-4400-b5b1-46d05b2627c8"
    },
    "slideshow": {
     "slide_type": "slide"
    }
   },
   "outputs": [],
   "source": [
    "font = {'family' : 'monospace', 'weight' : 'bold', 'size'   : 18}\n",
    "rc('font', **font) \n",
    "plt.rcParams['figure.figsize'] = [35, 10]\n",
    "\n",
    "def plot_params():\n",
    "    fig, axes = plt.subplots(1, 3)\n",
    "    for param_grid, ax in zip([param_grid_linear, param_grid_one_log,\n",
    "                               param_grid_range], axes):\n",
    "        grid_search = GridSearchCV(SVC(), param_grid, cv=5)\n",
    "        grid_search.fit(X_train, y_train)\n",
    "        scores = grid_search.cv_results_['mean_test_score'].reshape(6, 6)\n",
    "\n",
    "        # plot the mean cross-validation scores\n",
    "        scores_image = mglearn.tools.heatmap(\n",
    "                       scores, xlabel='gamma', ylabel='C', xticklabels=param_grid['gamma'],\n",
    "                       yticklabels=param_grid['C'], cmap=\"viridis\", ax=ax)\n",
    "    plt.colorbar(scores_image, ax=axes.tolist())"
   ]
  },
  {
   "cell_type": "code",
   "execution_count": 81,
   "metadata": {
    "slideshow": {
     "slide_type": "slide"
    }
   },
   "outputs": [
    {
     "data": {
      "image/png": "[encoded data removed]",
      "text/plain": [
       "<Figure size 2520x720 with 4 Axes>"
      ]
     },
     "metadata": {
      "needs_background": "light"
     },
     "output_type": "display_data"
    }
   ],
   "source": [
    "plot_params()"
   ]
  },
  {
   "cell_type": "code",
   "execution_count": 82,
   "metadata": {
    "slideshow": {
     "slide_type": "slide"
    }
   },
   "outputs": [],
   "source": [
    "font = {'family' : 'monospace', 'weight' : 'bold', 'size'   : 25}\n",
    "rc('font', **font) \n",
    "plt.rcParams['figure.figsize'] = [25, 10]"
   ]
  },
  {
   "cell_type": "markdown",
   "metadata": {
    "collapsed": true,
    "nbpresent": {
     "id": "e08fda87-8647-4459-a809-abbdcf18ebfe"
    },
    "slideshow": {
     "slide_type": "slide"
    }
   },
   "source": [
    "### Search over spaces (not grids)\n",
    "\n",
    "* In general is not a good idea.\n",
    "* But, in some cases is possible to try *all possible* combinations of *all paramenters*.\n",
    "* Pass to GridSearch a **list of dictionaries**. Each dictionary an independent grid."
   ]
  },
  {
   "cell_type": "code",
   "execution_count": 83,
   "metadata": {
    "nbpresent": {
     "id": "00d38547-0a6c-4c96-ac2f-aed0524ef66c"
    },
    "slideshow": {
     "slide_type": "slide"
    }
   },
   "outputs": [
    {
     "name": "stdout",
     "output_type": "stream",
     "text": [
      "Best parameters: {'C': 100, 'gamma': 0.01, 'kernel': 'rbf'}\n",
      "Best cross-validation score: 0.97\n"
     ]
    }
   ],
   "source": [
    "# We test the SVC classifier with two type of kernels.\n",
    "param_grid = [{'kernel': ['rbf'],\n",
    "               'C': [0.001, 0.01, 0.1, 1, 10, 100],\n",
    "               'gamma': [0.001, 0.01, 0.1, 1, 10, 100]},\n",
    "              {'kernel': ['linear'],\n",
    "               'C': [0.001, 0.01, 0.1, 1, 10, 100]}]\n",
    "\n",
    "grid_search = GridSearchCV(SVC(), param_grid, cv=5)\n",
    "grid_search.fit(X_train, y_train)\n",
    "print(\"Best parameters: {}\".format(grid_search.best_params_))\n",
    "print(\"Best cross-validation score: {:.2f}\".format(grid_search.best_score_))"
   ]
  },
  {
   "cell_type": "code",
   "execution_count": 84,
   "metadata": {
    "nbpresent": {
     "id": "3c6e0171-18a6-4adb-a81c-3dd1872e877a"
    },
    "slideshow": {
     "slide_type": "slide"
    }
   },
   "outputs": [
    {
     "data": {
      "text/html": [
       "<div>\n",
       "<style scoped>\n",
       "    .dataframe tbody tr th:only-of-type {\n",
       "        vertical-align: middle;\n",
       "    }\n",
       "\n",
       "    .dataframe tbody tr th {\n",
       "        vertical-align: top;\n",
       "    }\n",
       "\n",
       "    .dataframe thead th {\n",
       "        text-align: right;\n",
       "    }\n",
       "</style>\n",
       "<table border=\"1\" class=\"dataframe\">\n",
       "  <thead>\n",
       "    <tr style=\"text-align: right;\">\n",
       "      <th></th>\n",
       "      <th>0</th>\n",
       "      <th>1</th>\n",
       "      <th>2</th>\n",
       "      <th>3</th>\n",
       "      <th>4</th>\n",
       "      <th>5</th>\n",
       "      <th>6</th>\n",
       "      <th>7</th>\n",
       "      <th>8</th>\n",
       "      <th>9</th>\n",
       "      <th>...</th>\n",
       "      <th>32</th>\n",
       "      <th>33</th>\n",
       "      <th>34</th>\n",
       "      <th>35</th>\n",
       "      <th>36</th>\n",
       "      <th>37</th>\n",
       "      <th>38</th>\n",
       "      <th>39</th>\n",
       "      <th>40</th>\n",
       "      <th>41</th>\n",
       "    </tr>\n",
       "  </thead>\n",
       "  <tbody>\n",
       "    <tr>\n",
       "      <td>mean_fit_time</td>\n",
       "      <td>0.00169482</td>\n",
       "      <td>0.00157304</td>\n",
       "      <td>0.00130935</td>\n",
       "      <td>0.00111308</td>\n",
       "      <td>0.00115032</td>\n",
       "      <td>0.00110621</td>\n",
       "      <td>0.00106397</td>\n",
       "      <td>0.00115051</td>\n",
       "      <td>0.00108452</td>\n",
       "      <td>0.00107946</td>\n",
       "      <td>...</td>\n",
       "      <td>0.000623798</td>\n",
       "      <td>0.000820875</td>\n",
       "      <td>0.0015058</td>\n",
       "      <td>0.00146899</td>\n",
       "      <td>0.000930023</td>\n",
       "      <td>0.00104799</td>\n",
       "      <td>0.000657082</td>\n",
       "      <td>0.000631142</td>\n",
       "      <td>0.000636292</td>\n",
       "      <td>0.00064435</td>\n",
       "    </tr>\n",
       "    <tr>\n",
       "      <td>std_fit_time</td>\n",
       "      <td>0.000633444</td>\n",
       "      <td>0.000854468</td>\n",
       "      <td>0.000216571</td>\n",
       "      <td>5.18847e-05</td>\n",
       "      <td>4.29663e-05</td>\n",
       "      <td>1.0976e-05</td>\n",
       "      <td>1.71161e-05</td>\n",
       "      <td>0.000112053</td>\n",
       "      <td>3.83551e-05</td>\n",
       "      <td>1.42905e-05</td>\n",
       "      <td>...</td>\n",
       "      <td>2.02959e-05</td>\n",
       "      <td>1.52028e-05</td>\n",
       "      <td>0.000218598</td>\n",
       "      <td>1.01876e-05</td>\n",
       "      <td>0.000180381</td>\n",
       "      <td>0.000176199</td>\n",
       "      <td>6.33494e-06</td>\n",
       "      <td>1.54993e-05</td>\n",
       "      <td>2.40769e-05</td>\n",
       "      <td>4.74997e-05</td>\n",
       "    </tr>\n",
       "    <tr>\n",
       "      <td>mean_score_time</td>\n",
       "      <td>0.000613642</td>\n",
       "      <td>0.000643587</td>\n",
       "      <td>0.000574398</td>\n",
       "      <td>0.000440884</td>\n",
       "      <td>0.000432682</td>\n",
       "      <td>0.000436735</td>\n",
       "      <td>0.000431299</td>\n",
       "      <td>0.00047226</td>\n",
       "      <td>0.000443935</td>\n",
       "      <td>0.000432634</td>\n",
       "      <td>...</td>\n",
       "      <td>0.000368118</td>\n",
       "      <td>0.000383759</td>\n",
       "      <td>0.000430918</td>\n",
       "      <td>0.000442076</td>\n",
       "      <td>0.00047617</td>\n",
       "      <td>0.000480318</td>\n",
       "      <td>0.000364494</td>\n",
       "      <td>0.000362921</td>\n",
       "      <td>0.000353146</td>\n",
       "      <td>0.00035491</td>\n",
       "    </tr>\n",
       "    <tr>\n",
       "      <td>std_score_time</td>\n",
       "      <td>0.000165096</td>\n",
       "      <td>0.000268115</td>\n",
       "      <td>0.000164905</td>\n",
       "      <td>1.80112e-05</td>\n",
       "      <td>9.27494e-06</td>\n",
       "      <td>3.65146e-06</td>\n",
       "      <td>2.89656e-06</td>\n",
       "      <td>7.80521e-05</td>\n",
       "      <td>1.90806e-05</td>\n",
       "      <td>4.5302e-06</td>\n",
       "      <td>...</td>\n",
       "      <td>7.33462e-06</td>\n",
       "      <td>2.3775e-06</td>\n",
       "      <td>1.4648e-05</td>\n",
       "      <td>8.23342e-06</td>\n",
       "      <td>0.000112661</td>\n",
       "      <td>9.44548e-05</td>\n",
       "      <td>6.46813e-07</td>\n",
       "      <td>8.59683e-06</td>\n",
       "      <td>1.08106e-06</td>\n",
       "      <td>5.26382e-06</td>\n",
       "    </tr>\n",
       "    <tr>\n",
       "      <td>param_C</td>\n",
       "      <td>0.001</td>\n",
       "      <td>0.001</td>\n",
       "      <td>0.001</td>\n",
       "      <td>0.001</td>\n",
       "      <td>0.001</td>\n",
       "      <td>0.001</td>\n",
       "      <td>0.01</td>\n",
       "      <td>0.01</td>\n",
       "      <td>0.01</td>\n",
       "      <td>0.01</td>\n",
       "      <td>...</td>\n",
       "      <td>100</td>\n",
       "      <td>100</td>\n",
       "      <td>100</td>\n",
       "      <td>100</td>\n",
       "      <td>0.001</td>\n",
       "      <td>0.01</td>\n",
       "      <td>0.1</td>\n",
       "      <td>1</td>\n",
       "      <td>10</td>\n",
       "      <td>100</td>\n",
       "    </tr>\n",
       "    <tr>\n",
       "      <td>param_gamma</td>\n",
       "      <td>0.001</td>\n",
       "      <td>0.01</td>\n",
       "      <td>0.1</td>\n",
       "      <td>1</td>\n",
       "      <td>10</td>\n",
       "      <td>100</td>\n",
       "      <td>0.001</td>\n",
       "      <td>0.01</td>\n",
       "      <td>0.1</td>\n",
       "      <td>1</td>\n",
       "      <td>...</td>\n",
       "      <td>0.1</td>\n",
       "      <td>1</td>\n",
       "      <td>10</td>\n",
       "      <td>100</td>\n",
       "      <td>NaN</td>\n",
       "      <td>NaN</td>\n",
       "      <td>NaN</td>\n",
       "      <td>NaN</td>\n",
       "      <td>NaN</td>\n",
       "      <td>NaN</td>\n",
       "    </tr>\n",
       "    <tr>\n",
       "      <td>param_kernel</td>\n",
       "      <td>rbf</td>\n",
       "      <td>rbf</td>\n",
       "      <td>rbf</td>\n",
       "      <td>rbf</td>\n",
       "      <td>rbf</td>\n",
       "      <td>rbf</td>\n",
       "      <td>rbf</td>\n",
       "      <td>rbf</td>\n",
       "      <td>rbf</td>\n",
       "      <td>rbf</td>\n",
       "      <td>...</td>\n",
       "      <td>rbf</td>\n",
       "      <td>rbf</td>\n",
       "      <td>rbf</td>\n",
       "      <td>rbf</td>\n",
       "      <td>linear</td>\n",
       "      <td>linear</td>\n",
       "      <td>linear</td>\n",
       "      <td>linear</td>\n",
       "      <td>linear</td>\n",
       "      <td>linear</td>\n",
       "    </tr>\n",
       "    <tr>\n",
       "      <td>params</td>\n",
       "      <td>{'C': 0.001, 'gamma': 0.001, 'kernel': 'rbf'}</td>\n",
       "      <td>{'C': 0.001, 'gamma': 0.01, 'kernel': 'rbf'}</td>\n",
       "      <td>{'C': 0.001, 'gamma': 0.1, 'kernel': 'rbf'}</td>\n",
       "      <td>{'C': 0.001, 'gamma': 1, 'kernel': 'rbf'}</td>\n",
       "      <td>{'C': 0.001, 'gamma': 10, 'kernel': 'rbf'}</td>\n",
       "      <td>{'C': 0.001, 'gamma': 100, 'kernel': 'rbf'}</td>\n",
       "      <td>{'C': 0.01, 'gamma': 0.001, 'kernel': 'rbf'}</td>\n",
       "      <td>{'C': 0.01, 'gamma': 0.01, 'kernel': 'rbf'}</td>\n",
       "      <td>{'C': 0.01, 'gamma': 0.1, 'kernel': 'rbf'}</td>\n",
       "      <td>{'C': 0.01, 'gamma': 1, 'kernel': 'rbf'}</td>\n",
       "      <td>...</td>\n",
       "      <td>{'C': 100, 'gamma': 0.1, 'kernel': 'rbf'}</td>\n",
       "      <td>{'C': 100, 'gamma': 1, 'kernel': 'rbf'}</td>\n",
       "      <td>{'C': 100, 'gamma': 10, 'kernel': 'rbf'}</td>\n",
       "      <td>{'C': 100, 'gamma': 100, 'kernel': 'rbf'}</td>\n",
       "      <td>{'C': 0.001, 'kernel': 'linear'}</td>\n",
       "      <td>{'C': 0.01, 'kernel': 'linear'}</td>\n",
       "      <td>{'C': 0.1, 'kernel': 'linear'}</td>\n",
       "      <td>{'C': 1, 'kernel': 'linear'}</td>\n",
       "      <td>{'C': 10, 'kernel': 'linear'}</td>\n",
       "      <td>{'C': 100, 'kernel': 'linear'}</td>\n",
       "    </tr>\n",
       "    <tr>\n",
       "      <td>split0_test_score</td>\n",
       "      <td>0.375</td>\n",
       "      <td>0.375</td>\n",
       "      <td>0.375</td>\n",
       "      <td>0.375</td>\n",
       "      <td>0.375</td>\n",
       "      <td>0.375</td>\n",
       "      <td>0.375</td>\n",
       "      <td>0.375</td>\n",
       "      <td>0.375</td>\n",
       "      <td>0.375</td>\n",
       "      <td>...</td>\n",
       "      <td>0.958333</td>\n",
       "      <td>0.916667</td>\n",
       "      <td>0.875</td>\n",
       "      <td>0.541667</td>\n",
       "      <td>0.375</td>\n",
       "      <td>0.916667</td>\n",
       "      <td>0.958333</td>\n",
       "      <td>1</td>\n",
       "      <td>0.958333</td>\n",
       "      <td>0.958333</td>\n",
       "    </tr>\n",
       "    <tr>\n",
       "      <td>split1_test_score</td>\n",
       "      <td>0.347826</td>\n",
       "      <td>0.347826</td>\n",
       "      <td>0.347826</td>\n",
       "      <td>0.347826</td>\n",
       "      <td>0.347826</td>\n",
       "      <td>0.347826</td>\n",
       "      <td>0.347826</td>\n",
       "      <td>0.347826</td>\n",
       "      <td>0.347826</td>\n",
       "      <td>0.347826</td>\n",
       "      <td>...</td>\n",
       "      <td>1</td>\n",
       "      <td>1</td>\n",
       "      <td>0.956522</td>\n",
       "      <td>0.521739</td>\n",
       "      <td>0.347826</td>\n",
       "      <td>0.826087</td>\n",
       "      <td>0.913043</td>\n",
       "      <td>0.956522</td>\n",
       "      <td>1</td>\n",
       "      <td>1</td>\n",
       "    </tr>\n",
       "    <tr>\n",
       "      <td>split2_test_score</td>\n",
       "      <td>0.363636</td>\n",
       "      <td>0.363636</td>\n",
       "      <td>0.363636</td>\n",
       "      <td>0.363636</td>\n",
       "      <td>0.363636</td>\n",
       "      <td>0.363636</td>\n",
       "      <td>0.363636</td>\n",
       "      <td>0.363636</td>\n",
       "      <td>0.363636</td>\n",
       "      <td>0.363636</td>\n",
       "      <td>...</td>\n",
       "      <td>1</td>\n",
       "      <td>1</td>\n",
       "      <td>1</td>\n",
       "      <td>0.590909</td>\n",
       "      <td>0.363636</td>\n",
       "      <td>0.818182</td>\n",
       "      <td>1</td>\n",
       "      <td>1</td>\n",
       "      <td>1</td>\n",
       "      <td>1</td>\n",
       "    </tr>\n",
       "    <tr>\n",
       "      <td>split3_test_score</td>\n",
       "      <td>0.363636</td>\n",
       "      <td>0.363636</td>\n",
       "      <td>0.363636</td>\n",
       "      <td>0.363636</td>\n",
       "      <td>0.363636</td>\n",
       "      <td>0.363636</td>\n",
       "      <td>0.363636</td>\n",
       "      <td>0.363636</td>\n",
       "      <td>0.363636</td>\n",
       "      <td>0.363636</td>\n",
       "      <td>...</td>\n",
       "      <td>0.863636</td>\n",
       "      <td>0.863636</td>\n",
       "      <td>0.818182</td>\n",
       "      <td>0.590909</td>\n",
       "      <td>0.363636</td>\n",
       "      <td>0.772727</td>\n",
       "      <td>0.909091</td>\n",
       "      <td>0.954545</td>\n",
       "      <td>0.909091</td>\n",
       "      <td>0.909091</td>\n",
       "    </tr>\n",
       "    <tr>\n",
       "      <td>split4_test_score</td>\n",
       "      <td>0.380952</td>\n",
       "      <td>0.380952</td>\n",
       "      <td>0.380952</td>\n",
       "      <td>0.380952</td>\n",
       "      <td>0.380952</td>\n",
       "      <td>0.380952</td>\n",
       "      <td>0.380952</td>\n",
       "      <td>0.380952</td>\n",
       "      <td>0.380952</td>\n",
       "      <td>0.380952</td>\n",
       "      <td>...</td>\n",
       "      <td>0.952381</td>\n",
       "      <td>0.952381</td>\n",
       "      <td>0.952381</td>\n",
       "      <td>0.619048</td>\n",
       "      <td>0.380952</td>\n",
       "      <td>0.904762</td>\n",
       "      <td>0.952381</td>\n",
       "      <td>0.952381</td>\n",
       "      <td>0.952381</td>\n",
       "      <td>0.952381</td>\n",
       "    </tr>\n",
       "    <tr>\n",
       "      <td>mean_test_score</td>\n",
       "      <td>0.366071</td>\n",
       "      <td>0.366071</td>\n",
       "      <td>0.366071</td>\n",
       "      <td>0.366071</td>\n",
       "      <td>0.366071</td>\n",
       "      <td>0.366071</td>\n",
       "      <td>0.366071</td>\n",
       "      <td>0.366071</td>\n",
       "      <td>0.366071</td>\n",
       "      <td>0.366071</td>\n",
       "      <td>...</td>\n",
       "      <td>0.955357</td>\n",
       "      <td>0.946429</td>\n",
       "      <td>0.919643</td>\n",
       "      <td>0.571429</td>\n",
       "      <td>0.366071</td>\n",
       "      <td>0.848214</td>\n",
       "      <td>0.946429</td>\n",
       "      <td>0.973214</td>\n",
       "      <td>0.964286</td>\n",
       "      <td>0.964286</td>\n",
       "    </tr>\n",
       "    <tr>\n",
       "      <td>std_test_score</td>\n",
       "      <td>0.0113708</td>\n",
       "      <td>0.0113708</td>\n",
       "      <td>0.0113708</td>\n",
       "      <td>0.0113708</td>\n",
       "      <td>0.0113708</td>\n",
       "      <td>0.0113708</td>\n",
       "      <td>0.0113708</td>\n",
       "      <td>0.0113708</td>\n",
       "      <td>0.0113708</td>\n",
       "      <td>0.0113708</td>\n",
       "      <td>...</td>\n",
       "      <td>0.0495662</td>\n",
       "      <td>0.0519227</td>\n",
       "      <td>0.0647906</td>\n",
       "      <td>0.0356525</td>\n",
       "      <td>0.0113708</td>\n",
       "      <td>0.0547783</td>\n",
       "      <td>0.0332185</td>\n",
       "      <td>0.0223995</td>\n",
       "      <td>0.0338387</td>\n",
       "      <td>0.0338387</td>\n",
       "    </tr>\n",
       "    <tr>\n",
       "      <td>rank_test_score</td>\n",
       "      <td>27</td>\n",
       "      <td>27</td>\n",
       "      <td>27</td>\n",
       "      <td>27</td>\n",
       "      <td>27</td>\n",
       "      <td>27</td>\n",
       "      <td>27</td>\n",
       "      <td>27</td>\n",
       "      <td>27</td>\n",
       "      <td>27</td>\n",
       "      <td>...</td>\n",
       "      <td>9</td>\n",
       "      <td>11</td>\n",
       "      <td>17</td>\n",
       "      <td>24</td>\n",
       "      <td>27</td>\n",
       "      <td>21</td>\n",
       "      <td>11</td>\n",
       "      <td>1</td>\n",
       "      <td>3</td>\n",
       "      <td>3</td>\n",
       "    </tr>\n",
       "  </tbody>\n",
       "</table>\n",
       "<p>16 rows × 42 columns</p>\n",
       "</div>"
      ],
      "text/plain": [
       "                                                              0   \\\n",
       "mean_fit_time                                         0.00169482   \n",
       "std_fit_time                                         0.000633444   \n",
       "mean_score_time                                      0.000613642   \n",
       "std_score_time                                       0.000165096   \n",
       "param_C                                                    0.001   \n",
       "param_gamma                                                0.001   \n",
       "param_kernel                                                 rbf   \n",
       "params             {'C': 0.001, 'gamma': 0.001, 'kernel': 'rbf'}   \n",
       "split0_test_score                                          0.375   \n",
       "split1_test_score                                       0.347826   \n",
       "split2_test_score                                       0.363636   \n",
       "split3_test_score                                       0.363636   \n",
       "split4_test_score                                       0.380952   \n",
       "mean_test_score                                         0.366071   \n",
       "std_test_score                                         0.0113708   \n",
       "rank_test_score                                               27   \n",
       "\n",
       "                                                             1   \\\n",
       "mean_fit_time                                        0.00157304   \n",
       "std_fit_time                                        0.000854468   \n",
       "mean_score_time                                     0.000643587   \n",
       "std_score_time                                      0.000268115   \n",
       "param_C                                                   0.001   \n",
       "param_gamma                                                0.01   \n",
       "param_kernel                                                rbf   \n",
       "params             {'C': 0.001, 'gamma': 0.01, 'kernel': 'rbf'}   \n",
       "split0_test_score                                         0.375   \n",
       "split1_test_score                                      0.347826   \n",
       "split2_test_score                                      0.363636   \n",
       "split3_test_score                                      0.363636   \n",
       "split4_test_score                                      0.380952   \n",
       "mean_test_score                                        0.366071   \n",
       "std_test_score                                        0.0113708   \n",
       "rank_test_score                                              27   \n",
       "\n",
       "                                                            2   \\\n",
       "mean_fit_time                                       0.00130935   \n",
       "std_fit_time                                       0.000216571   \n",
       "mean_score_time                                    0.000574398   \n",
       "std_score_time                                     0.000164905   \n",
       "param_C                                                  0.001   \n",
       "param_gamma                                                0.1   \n",
       "param_kernel                                               rbf   \n",
       "params             {'C': 0.001, 'gamma': 0.1, 'kernel': 'rbf'}   \n",
       "split0_test_score                                        0.375   \n",
       "split1_test_score                                     0.347826   \n",
       "split2_test_score                                     0.363636   \n",
       "split3_test_score                                     0.363636   \n",
       "split4_test_score                                     0.380952   \n",
       "mean_test_score                                       0.366071   \n",
       "std_test_score                                       0.0113708   \n",
       "rank_test_score                                             27   \n",
       "\n",
       "                                                          3   \\\n",
       "mean_fit_time                                     0.00111308   \n",
       "std_fit_time                                     5.18847e-05   \n",
       "mean_score_time                                  0.000440884   \n",
       "std_score_time                                   1.80112e-05   \n",
       "param_C                                                0.001   \n",
       "param_gamma                                                1   \n",
       "param_kernel                                             rbf   \n",
       "params             {'C': 0.001, 'gamma': 1, 'kernel': 'rbf'}   \n",
       "split0_test_score                                      0.375   \n",
       "split1_test_score                                   0.347826   \n",
       "split2_test_score                                   0.363636   \n",
       "split3_test_score                                   0.363636   \n",
       "split4_test_score                                   0.380952   \n",
       "mean_test_score                                     0.366071   \n",
       "std_test_score                                     0.0113708   \n",
       "rank_test_score                                           27   \n",
       "\n",
       "                                                           4   \\\n",
       "mean_fit_time                                      0.00115032   \n",
       "std_fit_time                                      4.29663e-05   \n",
       "mean_score_time                                   0.000432682   \n",
       "std_score_time                                    9.27494e-06   \n",
       "param_C                                                 0.001   \n",
       "param_gamma                                                10   \n",
       "param_kernel                                              rbf   \n",
       "params             {'C': 0.001, 'gamma': 10, 'kernel': 'rbf'}   \n",
       "split0_test_score                                       0.375   \n",
       "split1_test_score                                    0.347826   \n",
       "split2_test_score                                    0.363636   \n",
       "split3_test_score                                    0.363636   \n",
       "split4_test_score                                    0.380952   \n",
       "mean_test_score                                      0.366071   \n",
       "std_test_score                                      0.0113708   \n",
       "rank_test_score                                            27   \n",
       "\n",
       "                                                            5   \\\n",
       "mean_fit_time                                       0.00110621   \n",
       "std_fit_time                                        1.0976e-05   \n",
       "mean_score_time                                    0.000436735   \n",
       "std_score_time                                     3.65146e-06   \n",
       "param_C                                                  0.001   \n",
       "param_gamma                                                100   \n",
       "param_kernel                                               rbf   \n",
       "params             {'C': 0.001, 'gamma': 100, 'kernel': 'rbf'}   \n",
       "split0_test_score                                        0.375   \n",
       "split1_test_score                                     0.347826   \n",
       "split2_test_score                                     0.363636   \n",
       "split3_test_score                                     0.363636   \n",
       "split4_test_score                                     0.380952   \n",
       "mean_test_score                                       0.366071   \n",
       "std_test_score                                       0.0113708   \n",
       "rank_test_score                                             27   \n",
       "\n",
       "                                                             6   \\\n",
       "mean_fit_time                                        0.00106397   \n",
       "std_fit_time                                        1.71161e-05   \n",
       "mean_score_time                                     0.000431299   \n",
       "std_score_time                                      2.89656e-06   \n",
       "param_C                                                    0.01   \n",
       "param_gamma                                               0.001   \n",
       "param_kernel                                                rbf   \n",
       "params             {'C': 0.01, 'gamma': 0.001, 'kernel': 'rbf'}   \n",
       "split0_test_score                                         0.375   \n",
       "split1_test_score                                      0.347826   \n",
       "split2_test_score                                      0.363636   \n",
       "split3_test_score                                      0.363636   \n",
       "split4_test_score                                      0.380952   \n",
       "mean_test_score                                        0.366071   \n",
       "std_test_score                                        0.0113708   \n",
       "rank_test_score                                              27   \n",
       "\n",
       "                                                            7   \\\n",
       "mean_fit_time                                       0.00115051   \n",
       "std_fit_time                                       0.000112053   \n",
       "mean_score_time                                     0.00047226   \n",
       "std_score_time                                     7.80521e-05   \n",
       "param_C                                                   0.01   \n",
       "param_gamma                                               0.01   \n",
       "param_kernel                                               rbf   \n",
       "params             {'C': 0.01, 'gamma': 0.01, 'kernel': 'rbf'}   \n",
       "split0_test_score                                        0.375   \n",
       "split1_test_score                                     0.347826   \n",
       "split2_test_score                                     0.363636   \n",
       "split3_test_score                                     0.363636   \n",
       "split4_test_score                                     0.380952   \n",
       "mean_test_score                                       0.366071   \n",
       "std_test_score                                       0.0113708   \n",
       "rank_test_score                                             27   \n",
       "\n",
       "                                                           8   \\\n",
       "mean_fit_time                                      0.00108452   \n",
       "std_fit_time                                      3.83551e-05   \n",
       "mean_score_time                                   0.000443935   \n",
       "std_score_time                                    1.90806e-05   \n",
       "param_C                                                  0.01   \n",
       "param_gamma                                               0.1   \n",
       "param_kernel                                              rbf   \n",
       "params             {'C': 0.01, 'gamma': 0.1, 'kernel': 'rbf'}   \n",
       "split0_test_score                                       0.375   \n",
       "split1_test_score                                    0.347826   \n",
       "split2_test_score                                    0.363636   \n",
       "split3_test_score                                    0.363636   \n",
       "split4_test_score                                    0.380952   \n",
       "mean_test_score                                      0.366071   \n",
       "std_test_score                                      0.0113708   \n",
       "rank_test_score                                            27   \n",
       "\n",
       "                                                         9   ...  \\\n",
       "mean_fit_time                                    0.00107946  ...   \n",
       "std_fit_time                                    1.42905e-05  ...   \n",
       "mean_score_time                                 0.000432634  ...   \n",
       "std_score_time                                   4.5302e-06  ...   \n",
       "param_C                                                0.01  ...   \n",
       "param_gamma                                               1  ...   \n",
       "param_kernel                                            rbf  ...   \n",
       "params             {'C': 0.01, 'gamma': 1, 'kernel': 'rbf'}  ...   \n",
       "split0_test_score                                     0.375  ...   \n",
       "split1_test_score                                  0.347826  ...   \n",
       "split2_test_score                                  0.363636  ...   \n",
       "split3_test_score                                  0.363636  ...   \n",
       "split4_test_score                                  0.380952  ...   \n",
       "mean_test_score                                    0.366071  ...   \n",
       "std_test_score                                    0.0113708  ...   \n",
       "rank_test_score                                          27  ...   \n",
       "\n",
       "                                                          32  \\\n",
       "mean_fit_time                                    0.000623798   \n",
       "std_fit_time                                     2.02959e-05   \n",
       "mean_score_time                                  0.000368118   \n",
       "std_score_time                                   7.33462e-06   \n",
       "param_C                                                  100   \n",
       "param_gamma                                              0.1   \n",
       "param_kernel                                             rbf   \n",
       "params             {'C': 100, 'gamma': 0.1, 'kernel': 'rbf'}   \n",
       "split0_test_score                                   0.958333   \n",
       "split1_test_score                                          1   \n",
       "split2_test_score                                          1   \n",
       "split3_test_score                                   0.863636   \n",
       "split4_test_score                                   0.952381   \n",
       "mean_test_score                                     0.955357   \n",
       "std_test_score                                     0.0495662   \n",
       "rank_test_score                                            9   \n",
       "\n",
       "                                                        33  \\\n",
       "mean_fit_time                                  0.000820875   \n",
       "std_fit_time                                   1.52028e-05   \n",
       "mean_score_time                                0.000383759   \n",
       "std_score_time                                  2.3775e-06   \n",
       "param_C                                                100   \n",
       "param_gamma                                              1   \n",
       "param_kernel                                           rbf   \n",
       "params             {'C': 100, 'gamma': 1, 'kernel': 'rbf'}   \n",
       "split0_test_score                                 0.916667   \n",
       "split1_test_score                                        1   \n",
       "split2_test_score                                        1   \n",
       "split3_test_score                                 0.863636   \n",
       "split4_test_score                                 0.952381   \n",
       "mean_test_score                                   0.946429   \n",
       "std_test_score                                   0.0519227   \n",
       "rank_test_score                                         11   \n",
       "\n",
       "                                                         34  \\\n",
       "mean_fit_time                                     0.0015058   \n",
       "std_fit_time                                    0.000218598   \n",
       "mean_score_time                                 0.000430918   \n",
       "std_score_time                                   1.4648e-05   \n",
       "param_C                                                 100   \n",
       "param_gamma                                              10   \n",
       "param_kernel                                            rbf   \n",
       "params             {'C': 100, 'gamma': 10, 'kernel': 'rbf'}   \n",
       "split0_test_score                                     0.875   \n",
       "split1_test_score                                  0.956522   \n",
       "split2_test_score                                         1   \n",
       "split3_test_score                                  0.818182   \n",
       "split4_test_score                                  0.952381   \n",
       "mean_test_score                                    0.919643   \n",
       "std_test_score                                    0.0647906   \n",
       "rank_test_score                                          17   \n",
       "\n",
       "                                                          35  \\\n",
       "mean_fit_time                                     0.00146899   \n",
       "std_fit_time                                     1.01876e-05   \n",
       "mean_score_time                                  0.000442076   \n",
       "std_score_time                                   8.23342e-06   \n",
       "param_C                                                  100   \n",
       "param_gamma                                              100   \n",
       "param_kernel                                             rbf   \n",
       "params             {'C': 100, 'gamma': 100, 'kernel': 'rbf'}   \n",
       "split0_test_score                                   0.541667   \n",
       "split1_test_score                                   0.521739   \n",
       "split2_test_score                                   0.590909   \n",
       "split3_test_score                                   0.590909   \n",
       "split4_test_score                                   0.619048   \n",
       "mean_test_score                                     0.571429   \n",
       "std_test_score                                     0.0356525   \n",
       "rank_test_score                                           24   \n",
       "\n",
       "                                                 36  \\\n",
       "mean_fit_time                           0.000930023   \n",
       "std_fit_time                            0.000180381   \n",
       "mean_score_time                          0.00047617   \n",
       "std_score_time                          0.000112661   \n",
       "param_C                                       0.001   \n",
       "param_gamma                                     NaN   \n",
       "param_kernel                                 linear   \n",
       "params             {'C': 0.001, 'kernel': 'linear'}   \n",
       "split0_test_score                             0.375   \n",
       "split1_test_score                          0.347826   \n",
       "split2_test_score                          0.363636   \n",
       "split3_test_score                          0.363636   \n",
       "split4_test_score                          0.380952   \n",
       "mean_test_score                            0.366071   \n",
       "std_test_score                            0.0113708   \n",
       "rank_test_score                                  27   \n",
       "\n",
       "                                                37  \\\n",
       "mean_fit_time                           0.00104799   \n",
       "std_fit_time                           0.000176199   \n",
       "mean_score_time                        0.000480318   \n",
       "std_score_time                         9.44548e-05   \n",
       "param_C                                       0.01   \n",
       "param_gamma                                    NaN   \n",
       "param_kernel                                linear   \n",
       "params             {'C': 0.01, 'kernel': 'linear'}   \n",
       "split0_test_score                         0.916667   \n",
       "split1_test_score                         0.826087   \n",
       "split2_test_score                         0.818182   \n",
       "split3_test_score                         0.772727   \n",
       "split4_test_score                         0.904762   \n",
       "mean_test_score                           0.848214   \n",
       "std_test_score                           0.0547783   \n",
       "rank_test_score                                 21   \n",
       "\n",
       "                                               38  \\\n",
       "mean_fit_time                         0.000657082   \n",
       "std_fit_time                          6.33494e-06   \n",
       "mean_score_time                       0.000364494   \n",
       "std_score_time                        6.46813e-07   \n",
       "param_C                                       0.1   \n",
       "param_gamma                                   NaN   \n",
       "param_kernel                               linear   \n",
       "params             {'C': 0.1, 'kernel': 'linear'}   \n",
       "split0_test_score                        0.958333   \n",
       "split1_test_score                        0.913043   \n",
       "split2_test_score                               1   \n",
       "split3_test_score                        0.909091   \n",
       "split4_test_score                        0.952381   \n",
       "mean_test_score                          0.946429   \n",
       "std_test_score                          0.0332185   \n",
       "rank_test_score                                11   \n",
       "\n",
       "                                             39  \\\n",
       "mean_fit_time                       0.000631142   \n",
       "std_fit_time                        1.54993e-05   \n",
       "mean_score_time                     0.000362921   \n",
       "std_score_time                      8.59683e-06   \n",
       "param_C                                       1   \n",
       "param_gamma                                 NaN   \n",
       "param_kernel                             linear   \n",
       "params             {'C': 1, 'kernel': 'linear'}   \n",
       "split0_test_score                             1   \n",
       "split1_test_score                      0.956522   \n",
       "split2_test_score                             1   \n",
       "split3_test_score                      0.954545   \n",
       "split4_test_score                      0.952381   \n",
       "mean_test_score                        0.973214   \n",
       "std_test_score                        0.0223995   \n",
       "rank_test_score                               1   \n",
       "\n",
       "                                              40  \\\n",
       "mean_fit_time                        0.000636292   \n",
       "std_fit_time                         2.40769e-05   \n",
       "mean_score_time                      0.000353146   \n",
       "std_score_time                       1.08106e-06   \n",
       "param_C                                       10   \n",
       "param_gamma                                  NaN   \n",
       "param_kernel                              linear   \n",
       "params             {'C': 10, 'kernel': 'linear'}   \n",
       "split0_test_score                       0.958333   \n",
       "split1_test_score                              1   \n",
       "split2_test_score                              1   \n",
       "split3_test_score                       0.909091   \n",
       "split4_test_score                       0.952381   \n",
       "mean_test_score                         0.964286   \n",
       "std_test_score                         0.0338387   \n",
       "rank_test_score                                3   \n",
       "\n",
       "                                               41  \n",
       "mean_fit_time                          0.00064435  \n",
       "std_fit_time                          4.74997e-05  \n",
       "mean_score_time                        0.00035491  \n",
       "std_score_time                        5.26382e-06  \n",
       "param_C                                       100  \n",
       "param_gamma                                   NaN  \n",
       "param_kernel                               linear  \n",
       "params             {'C': 100, 'kernel': 'linear'}  \n",
       "split0_test_score                        0.958333  \n",
       "split1_test_score                               1  \n",
       "split2_test_score                               1  \n",
       "split3_test_score                        0.909091  \n",
       "split4_test_score                        0.952381  \n",
       "mean_test_score                          0.964286  \n",
       "std_test_score                          0.0338387  \n",
       "rank_test_score                                 3  \n",
       "\n",
       "[16 rows x 42 columns]"
      ]
     },
     "metadata": {},
     "output_type": "display_data"
    }
   ],
   "source": [
    "results = pd.DataFrame(grid_search.cv_results_)\n",
    "# we display the transposed table so that it better fits on the page:\n",
    "display(results.T)"
   ]
  },
  {
   "cell_type": "markdown",
   "metadata": {
    "collapsed": true,
    "nbpresent": {
     "id": "f03ddf67-607d-43d5-ba04-be2e6a0f134c"
    },
    "slideshow": {
     "slide_type": "slide"
    }
   },
   "source": [
    "## Extra info\n",
    "\n",
    "\n",
    "* You can Parallelize the cross-validation and grid search by passing the option `n_jobs=-1`\n",
    "\n",
    "* GridSearchCV uses stratified *k*-fold cross-validation by default. But you can change it by passing a different\n",
    "instruction to the **cv** variable. eg. \n",
    "\n",
    "    ```from sklearn.model_selection import LeaveOneOut\n",
    "  loo = LeaveOneOut()\n",
    "  grid_search = GridSearchCV(SVC(), param_grid, cv=loo)```\n",
    "\n"
   ]
  },
  {
   "cell_type": "markdown",
   "metadata": {
    "slideshow": {
     "slide_type": "slide"
    }
   },
   "source": [
    "<center><img src=\"./images/questions.png\" alt=\"Drawing\" style=\"width: 750px;\"/></center>\n"
   ]
  },
  {
   "cell_type": "markdown",
   "metadata": {
    "slideshow": {
     "slide_type": "slide"
    }
   },
   "source": [
    "# Break\n",
    "\n",
    "<center>\n",
    "<img src=\"./images/break.png\" style=\"width:1200px\">\n",
    "</center>"
   ]
  },
  {
   "cell_type": "markdown",
   "metadata": {
    "collapsed": true,
    "nbpresent": {
     "id": "6f63fa54-d56f-434f-943f-be2a6f0e3d05"
    },
    "slideshow": {
     "slide_type": "slide"
    }
   },
   "source": [
    "# Evaluation Metrics and Scoring"
   ]
  },
  {
   "cell_type": "markdown",
   "metadata": {
    "slideshow": {
     "slide_type": "slide"
    }
   },
   "source": [
    "<center>\n",
    "<img src=\"./images/metrics.png\" style=\"width:1200px\">\n",
    "</center>"
   ]
  },
  {
   "cell_type": "markdown",
   "metadata": {
    "collapsed": true,
    "nbpresent": {
     "id": "2564c16a-8437-4ca7-a63d-82789db10af7"
    },
    "slideshow": {
     "slide_type": "slide"
    }
   },
   "source": [
    "Default evaluation metrics in scikit-learn\n",
    "* for classification: accuracy\n",
    "* for regression: $R^2$\n",
    "\n",
    "$R^2$ for regression is the usual one. It is a statistical measure of how close the data are to the fitted regression line. It is also known as the coefficient of determination, or the coefficient of multiple determination for multiple regression. However you can also use *Mean Absolute Error* or *Mean Squared Error* but the cases are limited. "
   ]
  },
  {
   "cell_type": "markdown",
   "metadata": {
    "slideshow": {
     "slide_type": "slide"
    }
   },
   "source": [
    "*When selecting a metric, you should always have the end goal of the machine learning application in mind.*\n",
    "\n",
    "> business metric $\\to$ business impact."
   ]
  },
  {
   "cell_type": "markdown",
   "metadata": {
    "collapsed": true,
    "nbpresent": {
     "id": "43e9b8d9-0f53-40f3-b8d9-c5b60fad5133"
    },
    "slideshow": {
     "slide_type": "fragment"
    }
   },
   "source": [
    "**be careful with imbalanced datasets**"
   ]
  },
  {
   "cell_type": "code",
   "execution_count": 86,
   "metadata": {
    "nbpresent": {
     "id": "c4ec721c-2942-42d9-a1e4-2c621eb12fb9"
    },
    "scrolled": true,
    "slideshow": {
     "slide_type": "slide"
    }
   },
   "outputs": [],
   "source": [
    "from sklearn.datasets import load_digits\n",
    "\n",
    "digits = load_digits()\n",
    "y = digits.target == 9\n",
    "X_train, X_test, y_train, y_test = train_test_split(digits.data, y, random_state=0)"
   ]
  },
  {
   "cell_type": "code",
   "execution_count": 87,
   "metadata": {
    "slideshow": {
     "slide_type": "fragment"
    }
   },
   "outputs": [
    {
     "name": "stdout",
     "output_type": "stream",
     "text": [
      "Unique predicted labels: [False]\n",
      "Test score: 0.90\n"
     ]
    }
   ],
   "source": [
    "from sklearn.dummy import DummyClassifier\n",
    "\n",
    "dummy_majority = DummyClassifier(strategy='most_frequent').fit(X_train, y_train)\n",
    "pred_most_frequent = dummy_majority.predict(X_test)\n",
    "print(\"Unique predicted labels: {}\".format(np.unique(pred_most_frequent)))\n",
    "print(\"Test score: {:.2f}\".format(dummy_majority.score(X_test, y_test)))"
   ]
  },
  {
   "cell_type": "code",
   "execution_count": 88,
   "metadata": {
    "slideshow": {
     "slide_type": "slide"
    }
   },
   "outputs": [
    {
     "name": "stdout",
     "output_type": "stream",
     "text": [
      "Test score: 0.92\n"
     ]
    }
   ],
   "source": [
    "from sklearn.tree import DecisionTreeClassifier\n",
    "\n",
    "tree = DecisionTreeClassifier(max_depth=2).fit(X_train, y_train)\n",
    "pred_tree = tree.predict(X_test)\n",
    "print(\"Test score: {:.2f}\".format(tree.score(X_test, y_test)))"
   ]
  },
  {
   "cell_type": "code",
   "execution_count": 89,
   "metadata": {
    "slideshow": {
     "slide_type": "slide"
    }
   },
   "outputs": [
    {
     "name": "stdout",
     "output_type": "stream",
     "text": [
      "dummy score: 0.82\n",
      "logreg score: 0.98\n"
     ]
    }
   ],
   "source": [
    "from sklearn.linear_model import LogisticRegression\n",
    "dummy = DummyClassifier().fit(X_train, y_train)\n",
    "pred_dummy = dummy.predict(X_test)\n",
    "print(\"dummy score: {:.2f}\".format(dummy.score(X_test, y_test)))\n",
    "\n",
    "logreg = LogisticRegression(C=0.01).fit(X_train, y_train)\n",
    "pred_logreg = logreg.predict(X_test)\n",
    "print(\"logreg score: {:.2f}\".format(logreg.score(X_test, y_test)))"
   ]
  },
  {
   "cell_type": "markdown",
   "metadata": {
    "slideshow": {
     "slide_type": "slide"
    }
   },
   "source": [
    "## Confusion matrices\n",
    "\n",
    "* rows $\\to$ true classes\n",
    "* columns $\\to$ predicted classes"
   ]
  },
  {
   "cell_type": "code",
   "execution_count": 90,
   "metadata": {
    "slideshow": {
     "slide_type": "slide"
    }
   },
   "outputs": [
    {
     "name": "stdout",
     "output_type": "stream",
     "text": [
      "Confusion matrix:\n",
      "[[401   2]\n",
      " [  7  40]]\n"
     ]
    }
   ],
   "source": [
    "from sklearn.metrics import confusion_matrix\n",
    "\n",
    "confusion = confusion_matrix(y_test, pred_logreg)\n",
    "print(\"Confusion matrix:\\n{}\".format(confusion))"
   ]
  },
  {
   "cell_type": "code",
   "execution_count": 36,
   "metadata": {
    "slideshow": {
     "slide_type": "slide"
    }
   },
   "outputs": [
    {
     "data": {
      "image/png": "[encoded data removed]",
      "text/plain": [
       "<Figure size 576x576 with 1 Axes>"
      ]
     },
     "metadata": {
      "needs_background": "light"
     },
     "output_type": "display_data"
    }
   ],
   "source": [
    "mglearn.plots.plot_confusion_matrix_illustration()"
   ]
  },
  {
   "cell_type": "code",
   "execution_count": 37,
   "metadata": {
    "slideshow": {
     "slide_type": "slide"
    }
   },
   "outputs": [
    {
     "data": {
      "image/png": "[encoded data removed]",
      "text/plain": [
       "<Figure size 1800x720 with 1 Axes>"
      ]
     },
     "metadata": {
      "needs_background": "light"
     },
     "output_type": "display_data"
    }
   ],
   "source": [
    "font = {'family' : 'monospace', 'weight' : 'bold', 'size'   : 25}\n",
    "rc('font', **font) \n",
    "plt.rcParams['figure.figsize'] = [25, 10]\n",
    "mglearn.plots.plot_binary_confusion_matrix()"
   ]
  },
  {
   "cell_type": "code",
   "execution_count": 91,
   "metadata": {
    "slideshow": {
     "slide_type": "slide"
    }
   },
   "outputs": [
    {
     "name": "stdout",
     "output_type": "stream",
     "text": [
      "Most frequent class:\n",
      "[[403   0]\n",
      " [ 47   0]]\n",
      "\n",
      "Dummy model:\n",
      "[[370  33]\n",
      " [ 43   4]]\n",
      "\n",
      "Decision tree:\n",
      "[[390  13]\n",
      " [ 24  23]]\n",
      "\n",
      "Logistic Regression\n",
      "[[401   2]\n",
      " [  7  40]]\n"
     ]
    }
   ],
   "source": [
    "print(\"Most frequent class:\")\n",
    "print(confusion_matrix(y_test,pred_most_frequent))\n",
    "print(\"\\nDummy model:\")\n",
    "print(confusion_matrix(y_test,pred_dummy))\n",
    "print(\"\\nDecision tree:\")\n",
    "print(confusion_matrix(y_test, pred_tree))\n",
    "print(\"\\nLogistic Regression\")\n",
    "print(confusion_matrix(y_test,pred_logreg))"
   ]
  },
  {
   "cell_type": "markdown",
   "metadata": {
    "slideshow": {
     "slide_type": "slide"
    }
   },
   "source": [
    "## Accuracy: $\\frac{TP+TN}{TP + TN + FP + FN}$\n",
    "\n",
    "* Precision: $\\frac{TP}{TP + FP}$ (fraction of relevant instances among the retrieved instances)\n",
    "\n",
    "* Recall:    $\\frac{TP}{TP + FN}$  (fraction of the total amount of relevant instances that were actually retrieved) \n",
    "\n",
    "* f-score:  $2\\cdot \\frac{precision\\cdot recall}{precision+recall}$ (harmonic mean of precision and recall)"
   ]
  },
  {
   "cell_type": "markdown",
   "metadata": {
    "slideshow": {
     "slide_type": "slide"
    }
   },
   "source": [
    "<center><img src=\"./images/precisionrecall.png\" style=\"width: 1000px;\"/></center>"
   ]
  },
  {
   "cell_type": "markdown",
   "metadata": {
    "slideshow": {
     "slide_type": "slide"
    }
   },
   "source": [
    "<center><img src=\"./images/cm1.png\" style=\"width: 1000px;\"/></center>\n"
   ]
  },
  {
   "cell_type": "markdown",
   "metadata": {
    "slideshow": {
     "slide_type": "slide"
    }
   },
   "source": [
    "<center><img src=\"./images/cm2.png\" style=\"width: 800px;\"/></center>\n"
   ]
  },
  {
   "cell_type": "markdown",
   "metadata": {
    "slideshow": {
     "slide_type": "slide"
    }
   },
   "source": [
    "<center><img src=\"./images/cm1.png\" style=\"width: 1000px;\"/></center>\n"
   ]
  },
  {
   "cell_type": "code",
   "execution_count": 92,
   "metadata": {
    "slideshow": {
     "slide_type": "slide"
    }
   },
   "outputs": [
    {
     "name": "stdout",
     "output_type": "stream",
     "text": [
      "f1 score most frequent: 0.00\n",
      "f1 score dummy: 0.10\n",
      "f1 score tree: 0.55\n",
      "f1 score logistic regression: 0.90\n"
     ]
    }
   ],
   "source": [
    "from sklearn.metrics import f1_score\n",
    "\n",
    "print(\"f1 score most frequent: {:.2f}\".format(f1_score(y_test, pred_most_frequent)))\n",
    "print(\"f1 score dummy: {:.2f}\".format(f1_score(y_test, pred_dummy)))\n",
    "print(\"f1 score tree: {:.2f}\".format(f1_score(y_test, pred_tree)))\n",
    "print(\"f1 score logistic regression: {:.2f}\".format(f1_score(y_test, pred_logreg)))"
   ]
  },
  {
   "cell_type": "code",
   "execution_count": 93,
   "metadata": {
    "slideshow": {
     "slide_type": "slide"
    }
   },
   "outputs": [
    {
     "name": "stdout",
     "output_type": "stream",
     "text": [
      "              precision    recall  f1-score   support\n",
      "\n",
      "    not nine       0.90      1.00      0.94       403\n",
      "        nine       0.00      0.00      0.00        47\n",
      "\n",
      "    accuracy                           0.90       450\n",
      "   macro avg       0.45      0.50      0.47       450\n",
      "weighted avg       0.80      0.90      0.85       450\n",
      "\n"
     ]
    }
   ],
   "source": [
    "from sklearn.metrics import classification_report\n",
    "\n",
    "print(classification_report(y_test, pred_most_frequent,target_names=[\"not nine\", \"nine\"]))"
   ]
  },
  {
   "cell_type": "code",
   "execution_count": 94,
   "metadata": {
    "slideshow": {
     "slide_type": "slide"
    }
   },
   "outputs": [
    {
     "name": "stdout",
     "output_type": "stream",
     "text": [
      "              precision    recall  f1-score   support\n",
      "\n",
      "    not nine       0.90      0.92      0.91       403\n",
      "        nine       0.11      0.09      0.10        47\n",
      "\n",
      "    accuracy                           0.83       450\n",
      "   macro avg       0.50      0.50      0.50       450\n",
      "weighted avg       0.81      0.83      0.82       450\n",
      "\n"
     ]
    }
   ],
   "source": [
    "print(classification_report(y_test, pred_dummy,target_names=[\"not nine\", \"nine\"]))"
   ]
  },
  {
   "cell_type": "code",
   "execution_count": 95,
   "metadata": {
    "slideshow": {
     "slide_type": "slide"
    }
   },
   "outputs": [
    {
     "name": "stdout",
     "output_type": "stream",
     "text": [
      "              precision    recall  f1-score   support\n",
      "\n",
      "    not nine       0.98      1.00      0.99       403\n",
      "        nine       0.95      0.85      0.90        47\n",
      "\n",
      "    accuracy                           0.98       450\n",
      "   macro avg       0.97      0.92      0.94       450\n",
      "weighted avg       0.98      0.98      0.98       450\n",
      "\n"
     ]
    }
   ],
   "source": [
    "print(classification_report(y_test, pred_logreg,target_names=[\"not nine\", \"nine\"]))"
   ]
  },
  {
   "cell_type": "markdown",
   "metadata": {
    "slideshow": {
     "slide_type": "slide"
    }
   },
   "source": [
    "## Taking uncertainty into account\n",
    "\n",
    "Most of classifiers provide a:\n",
    "\n",
    "* decision_function\n",
    "* predict_proba\n",
    "\n",
    "You can modify the output by tuning a threshold.\n",
    "\n",
    ">If you do set a threshold, don't use the test set. As with any other parameter, setting a decision threshold on the test set is likely to yield overly optimistic results. Use a validation set or cross-validation instead."
   ]
  },
  {
   "cell_type": "code",
   "execution_count": 96,
   "metadata": {
    "slideshow": {
     "slide_type": "slide"
    }
   },
   "outputs": [],
   "source": [
    "from mglearn.datasets import make_blobs\n",
    "\n",
    "X, y = make_blobs(n_samples=(400, 50), centers=2, cluster_std=[7.0, 2],random_state=22)\n",
    "X_train, X_test, y_train, y_test = train_test_split(X, y, random_state=0)\n",
    "svc = SVC(gamma=.1).fit(X_train, y_train)"
   ]
  },
  {
   "cell_type": "code",
   "execution_count": 97,
   "metadata": {
    "slideshow": {
     "slide_type": "slide"
    }
   },
   "outputs": [],
   "source": [
    "font = {'family' : 'monospace', 'weight' : 'bold', 'size'   : 12}\n",
    "rc('font', **font) \n",
    "plt.rcParams['figure.figsize'] = [30, 10]"
   ]
  },
  {
   "cell_type": "code",
   "execution_count": 98,
   "metadata": {
    "slideshow": {
     "slide_type": "slide"
    }
   },
   "outputs": [
    {
     "data": {
      "image/png": "[encoded data removed]",
      "text/plain": [
       "<Figure size 1080x576 with 6 Axes>"
      ]
     },
     "metadata": {},
     "output_type": "display_data"
    }
   ],
   "source": [
    "mglearn.plots.plot_decision_threshold()"
   ]
  },
  {
   "cell_type": "code",
   "execution_count": 99,
   "metadata": {
    "slideshow": {
     "slide_type": "slide"
    }
   },
   "outputs": [
    {
     "name": "stdout",
     "output_type": "stream",
     "text": [
      "              precision    recall  f1-score   support\n",
      "\n",
      "           0       0.97      0.86      0.91       104\n",
      "           1       0.29      0.67      0.40         9\n",
      "\n",
      "    accuracy                           0.84       113\n",
      "   macro avg       0.63      0.76      0.65       113\n",
      "weighted avg       0.91      0.84      0.87       113\n",
      "\n"
     ]
    }
   ],
   "source": [
    "print(classification_report(y_test, svc.predict(X_test)))"
   ]
  },
  {
   "cell_type": "code",
   "execution_count": 100,
   "metadata": {
    "slideshow": {
     "slide_type": "slide"
    }
   },
   "outputs": [
    {
     "name": "stdout",
     "output_type": "stream",
     "text": [
      "              precision    recall  f1-score   support\n",
      "\n",
      "           0       1.00      0.81      0.89       104\n",
      "           1       0.31      1.00      0.47         9\n",
      "\n",
      "    accuracy                           0.82       113\n",
      "   macro avg       0.66      0.90      0.68       113\n",
      "weighted avg       0.95      0.82      0.86       113\n",
      "\n"
     ]
    }
   ],
   "source": [
    "y_pred_lower_threshold = svc.decision_function(X_test) > -.8\n",
    "print(classification_report(y_test, y_pred_lower_threshold))"
   ]
  },
  {
   "cell_type": "markdown",
   "metadata": {
    "slideshow": {
     "slide_type": "slide"
    }
   },
   "source": [
    "## Precision-recall curves and ROC curves\n",
    "\n",
    "Adjust the trade-off of precision and recall for a given classifier."
   ]
  },
  {
   "cell_type": "code",
   "execution_count": 46,
   "metadata": {
    "slideshow": {
     "slide_type": "skip"
    }
   },
   "outputs": [],
   "source": [
    "font = {'family' : 'monospace', 'weight' : 'bold', 'size'   : 25}\n",
    "rc('font', **font) \n",
    "plt.rcParams['figure.figsize'] = [25, 15]\n",
    "plt.rcParams['lines.markersize'] = 20\n",
    "#plt.rcParams.keys()"
   ]
  },
  {
   "cell_type": "code",
   "execution_count": 101,
   "metadata": {
    "slideshow": {
     "slide_type": "slide"
    }
   },
   "outputs": [],
   "source": [
    "from sklearn.metrics import precision_recall_curve\n",
    "from sklearn.ensemble import RandomForestClassifier\n",
    "\n",
    "X, y = make_blobs(n_samples=(4000, 500), centers=2, cluster_std=[7.0, 2],\n",
    "random_state=22)\n",
    "X_train, X_test, y_train, y_test = train_test_split(X, y, random_state=0)\n",
    "svc = SVC(gamma=.05).fit(X_train, y_train)\n",
    "precision, recall, thresholds = precision_recall_curve(\n",
    "y_test, svc.decision_function(X_test))\n",
    "# find threshold closest to zero\n",
    "close_zero = np.argmin(np.abs(thresholds))\n",
    "\n",
    "rf = RandomForestClassifier(n_estimators=100, random_state=0, max_features=2)\n",
    "rf.fit(X_train, y_train)\n",
    "# RandomForestClassifier has predict_proba, but not decision_function\n",
    "precision_rf, recall_rf, thresholds_rf = precision_recall_curve(\n",
    "y_test, rf.predict_proba(X_test)[:, 1])"
   ]
  },
  {
   "cell_type": "code",
   "execution_count": 102,
   "metadata": {
    "slideshow": {
     "slide_type": "slide"
    }
   },
   "outputs": [],
   "source": [
    "def plot_pre_rec():\n",
    "    plt.plot(precision, recall, label=\"svc\")\n",
    "    plt.plot(precision[close_zero], recall[close_zero], 'o',\n",
    "             label=\"threshold zero svc\", fillstyle=\"none\", c='k', mew=2)\n",
    "    plt.plot(precision_rf, recall_rf, label=\"rf\")\n",
    "    close_default_rf = np.argmin(np.abs(thresholds_rf - 0.5))\n",
    "    plt.plot(precision_rf[close_default_rf], recall_rf[close_default_rf], '^', c='k', \n",
    "             label=\"threshold 0.5 rf\", fillstyle=\"none\", mew=2)\n",
    "    plt.xlabel(\"Precision\")\n",
    "    plt.ylabel(\"Recall\")\n",
    "    plt.legend(loc=\"best\")"
   ]
  },
  {
   "cell_type": "code",
   "execution_count": 103,
   "metadata": {
    "slideshow": {
     "slide_type": "slide"
    }
   },
   "outputs": [
    {
     "data": {
      "image/png": "[encoded data removed]",
      "text/plain": [
       "<Figure size 2160x720 with 1 Axes>"
      ]
     },
     "metadata": {
      "needs_background": "light"
     },
     "output_type": "display_data"
    }
   ],
   "source": [
    "plot_pre_rec()"
   ]
  },
  {
   "cell_type": "code",
   "execution_count": 104,
   "metadata": {
    "slideshow": {
     "slide_type": "slide"
    }
   },
   "outputs": [
    {
     "name": "stdout",
     "output_type": "stream",
     "text": [
      "Average precision of random forest: 0.660\n",
      "Average precision of svc: 0.666\n"
     ]
    }
   ],
   "source": [
    "from sklearn.metrics import average_precision_score\n",
    "ap_rf = average_precision_score(y_test, rf.predict_proba(X_test)[:, 1])\n",
    "ap_svc = average_precision_score(y_test, svc.decision_function(X_test))\n",
    "print(\"Average precision of random forest: {:.3f}\".format(ap_rf))\n",
    "print(\"Average precision of svc: {:.3f}\".format(ap_svc))"
   ]
  },
  {
   "cell_type": "markdown",
   "metadata": {
    "slideshow": {
     "slide_type": "slide"
    }
   },
   "source": [
    "## Receiver operating characteristics (ROC) and AUC\n",
    "* false positive rate (FPR) against the true positive rate (TPR)"
   ]
  },
  {
   "cell_type": "markdown",
   "metadata": {
    "slideshow": {
     "slide_type": "slide"
    }
   },
   "source": [
    "<center><img src=\"./images/ROC_space.png\" style=\"width: 850px;\"/></center>\n"
   ]
  },
  {
   "cell_type": "code",
   "execution_count": 105,
   "metadata": {
    "slideshow": {
     "slide_type": "slide"
    }
   },
   "outputs": [],
   "source": [
    "from sklearn.metrics import roc_curve\n",
    "\n",
    "def plot_roc_curve():\n",
    "    fpr, tpr, thresholds = roc_curve(y_test, svc.decision_function(X_test))\n",
    "    fpr_rf, tpr_rf, thresholds_rf = roc_curve(y_test, rf.predict_proba(X_test)[:, 1])\n",
    "\n",
    "    close_zero = np.argmin(np.abs(thresholds))\n",
    "\n",
    "    plt.plot(fpr, tpr, label=\"ROC Curve SVC\")\n",
    "    plt.plot(fpr_rf, tpr_rf, label=\"ROC Curve RF\")\n",
    "    plt.xlabel(\"FPR\")\n",
    "    plt.ylabel(\"TPR (recall)\")\n",
    "    plt.plot(fpr[close_zero], tpr[close_zero], 'o', \n",
    "    label=\"threshold zero SVC\", fillstyle=\"none\", c='k', mew=2)\n",
    "    close_default_rf = np.argmin(np.abs(thresholds_rf - 0.5))\n",
    "    plt.plot(fpr_rf[close_default_rf], tpr[close_default_rf], '^',\n",
    "    label=\"threshold 0.5 RF\", fillstyle=\"none\", c='k', mew=2)\n",
    "    plt.legend(loc=4)"
   ]
  },
  {
   "cell_type": "code",
   "execution_count": 106,
   "metadata": {
    "slideshow": {
     "slide_type": "slide"
    }
   },
   "outputs": [
    {
     "data": {
      "image/png": "[encoded data removed]",
      "text/plain": [
       "<Figure size 2160x720 with 1 Axes>"
      ]
     },
     "metadata": {
      "needs_background": "light"
     },
     "output_type": "display_data"
    }
   ],
   "source": [
    "plot_roc_curve()"
   ]
  },
  {
   "cell_type": "code",
   "execution_count": 54,
   "metadata": {
    "slideshow": {
     "slide_type": "slide"
    }
   },
   "outputs": [
    {
     "name": "stdout",
     "output_type": "stream",
     "text": [
      "AUC for Random Forest: 0.937\n",
      "AUC for SVC: 0.916\n"
     ]
    }
   ],
   "source": [
    "from sklearn.metrics import roc_auc_score\n",
    "rf_auc = roc_auc_score(y_test, rf.predict_proba(X_test)[:, 1])\n",
    "svc_auc = roc_auc_score(y_test, svc.decision_function(X_test))\n",
    "print(\"AUC for Random Forest: {:.3f}\".format(rf_auc))\n",
    "print(\"AUC for SVC: {:.3f}\".format(svc_auc))"
   ]
  },
  {
   "cell_type": "markdown",
   "metadata": {
    "slideshow": {
     "slide_type": "fragment"
    }
   },
   "source": [
    "*AUC is a better metric for imbalanced classification problems than accuracy.*"
   ]
  },
  {
   "cell_type": "markdown",
   "metadata": {
    "slideshow": {
     "slide_type": "slide"
    }
   },
   "source": [
    "## Metrics for Multiclass Classification\n",
    "\n",
    "Same than binary classification metrics, but averaged over all classes."
   ]
  },
  {
   "cell_type": "code",
   "execution_count": 107,
   "metadata": {
    "slideshow": {
     "slide_type": "slide"
    }
   },
   "outputs": [
    {
     "name": "stdout",
     "output_type": "stream",
     "text": [
      "Accuracy: 0.953\n",
      "Confusion matrix:\n",
      "[[37  0  0  0  0  0  0  0  0  0]\n",
      " [ 0 39  0  0  0  0  2  0  2  0]\n",
      " [ 0  0 41  3  0  0  0  0  0  0]\n",
      " [ 0  0  1 43  0  0  0  0  0  1]\n",
      " [ 0  0  0  0 38  0  0  0  0  0]\n",
      " [ 0  1  0  0  0 47  0  0  0  0]\n",
      " [ 0  0  0  0  0  0 52  0  0  0]\n",
      " [ 0  1  0  1  1  0  0 45  0  0]\n",
      " [ 0  3  1  0  0  0  0  0 43  1]\n",
      " [ 0  0  0  1  0  1  0  0  1 44]]\n"
     ]
    }
   ],
   "source": [
    "from sklearn.metrics import accuracy_score\n",
    "X_train, X_test, y_train, y_test = train_test_split(\n",
    "digits.data, digits.target, random_state=0)\n",
    "lr = LogisticRegression().fit(X_train, y_train)\n",
    "pred = lr.predict(X_test)\n",
    "print(\"Accuracy: {:.3f}\".format(accuracy_score(y_test, pred)))\n",
    "print(\"Confusion matrix:\\n{}\".format(confusion_matrix(y_test, pred)))"
   ]
  },
  {
   "cell_type": "code",
   "execution_count": 108,
   "metadata": {
    "slideshow": {
     "slide_type": "slide"
    }
   },
   "outputs": [],
   "source": [
    "def plot_conf_matrix():\n",
    "    scores_image = mglearn.tools.heatmap(\n",
    "    confusion_matrix(y_test, pred), xlabel='Predicted label',\n",
    "    ylabel='True label', xticklabels=digits.target_names,\n",
    "    yticklabels=digits.target_names, cmap=plt.cm.gray_r, fmt=\"%d\")\n",
    "    plt.title(\"Confusion matrix\")\n",
    "    plt.gca().invert_yaxis()"
   ]
  },
  {
   "cell_type": "code",
   "execution_count": 109,
   "metadata": {
    "slideshow": {
     "slide_type": "slide"
    }
   },
   "outputs": [
    {
     "data": {
      "image/png": "[encoded data removed]",
      "text/plain": [
       "<Figure size 2160x720 with 1 Axes>"
      ]
     },
     "metadata": {
      "needs_background": "light"
     },
     "output_type": "display_data"
    }
   ],
   "source": [
    "plot_conf_matrix()"
   ]
  },
  {
   "cell_type": "code",
   "execution_count": 59,
   "metadata": {
    "slideshow": {
     "slide_type": "slide"
    }
   },
   "outputs": [
    {
     "name": "stdout",
     "output_type": "stream",
     "text": [
      "              precision    recall  f1-score   support\n",
      "\n",
      "           0       1.00      1.00      1.00        37\n",
      "           1       0.89      0.91      0.90        43\n",
      "           2       0.95      0.93      0.94        44\n",
      "           3       0.90      0.96      0.92        45\n",
      "           4       0.97      1.00      0.99        38\n",
      "           5       0.98      0.98      0.98        48\n",
      "           6       0.96      1.00      0.98        52\n",
      "           7       1.00      0.94      0.97        48\n",
      "           8       0.93      0.90      0.91        48\n",
      "           9       0.96      0.94      0.95        47\n",
      "\n",
      "    accuracy                           0.95       450\n",
      "   macro avg       0.95      0.95      0.95       450\n",
      "weighted avg       0.95      0.95      0.95       450\n",
      "\n"
     ]
    }
   ],
   "source": [
    "print(classification_report(y_test, pred))"
   ]
  },
  {
   "cell_type": "markdown",
   "metadata": {
    "slideshow": {
     "slide_type": "slide"
    }
   },
   "source": [
    "## Using Evaluation Metrics in Model Selection\n",
    "\n",
    "How to include your metric in your model selection using GridSearchCV or cross_val_score."
   ]
  },
  {
   "cell_type": "code",
   "execution_count": 110,
   "metadata": {
    "slideshow": {
     "slide_type": "slide"
    }
   },
   "outputs": [
    {
     "name": "stdout",
     "output_type": "stream",
     "text": [
      "Grid-Search with accuracy\n",
      "Best parameters: {'gamma': 0.0001}\n",
      "Best cross-validation score (accuracy)): 0.970\n",
      "Test set AUC: 0.992\n",
      "Test set accuracy: 0.973\n"
     ]
    }
   ],
   "source": [
    "X_train, X_test, y_train, y_test = train_test_split(digits.data, digits.target == 9, random_state=0)\n",
    "# we provide a somewhat bad grid to illustrate the point:\n",
    "param_grid = {'gamma': [0.0001, 0.01, 0.1, 1, 10]}\n",
    "# using the default scoring of accuracy:\n",
    "grid = GridSearchCV(SVC(), param_grid=param_grid)\n",
    "grid.fit(X_train, y_train)\n",
    "print(\"Grid-Search with accuracy\")\n",
    "print(\"Best parameters:\", grid.best_params_)\n",
    "print(\"Best cross-validation score (accuracy)): {:.3f}\".format(grid.best_score_))\n",
    "print(\"Test set AUC: {:.3f}\".format(\n",
    "roc_auc_score(y_test, grid.decision_function(X_test))))\n",
    "print(\"Test set accuracy: {:.3f}\".format(grid.score(X_test, y_test)))"
   ]
  },
  {
   "cell_type": "code",
   "execution_count": 111,
   "metadata": {
    "slideshow": {
     "slide_type": "slide"
    }
   },
   "outputs": [
    {
     "name": "stdout",
     "output_type": "stream",
     "text": [
      "\n",
      "Grid-Search with AUC\n",
      "Best parameters: {'gamma': 0.01}\n",
      "Best cross-validation score (AUC): 0.997\n",
      "Test set AUC: 1.000\n",
      "Test set accuracy: 1.000\n"
     ]
    }
   ],
   "source": [
    "# using AUC scoring instead:\n",
    "grid = GridSearchCV(SVC(), param_grid=param_grid, scoring=\"roc_auc\")\n",
    "grid.fit(X_train, y_train)\n",
    "print(\"\\nGrid-Search with AUC\")\n",
    "print(\"Best parameters:\", grid.best_params_)\n",
    "print(\"Best cross-validation score (AUC): {:.3f}\".format(grid.best_score_))\n",
    "print(\"Test set AUC: {:.3f}\".format(\n",
    "roc_auc_score(y_test, grid.decision_function(X_test))))\n",
    "print(\"Test set accuracy: {:.3f}\".format(grid.score(X_test, y_test)))"
   ]
  },
  {
   "cell_type": "code",
   "execution_count": 62,
   "metadata": {
    "slideshow": {
     "slide_type": "slide"
    }
   },
   "outputs": [
    {
     "name": "stdout",
     "output_type": "stream",
     "text": [
      "Available scorers:\n",
      "['accuracy', 'adjusted_mutual_info_score', 'adjusted_rand_score', 'average_precision', 'balanced_accuracy', 'brier_score_loss', 'completeness_score', 'explained_variance', 'f1', 'f1_macro', 'f1_micro', 'f1_samples', 'f1_weighted', 'fowlkes_mallows_score', 'homogeneity_score', 'jaccard', 'jaccard_macro', 'jaccard_micro', 'jaccard_samples', 'jaccard_weighted', 'max_error', 'mutual_info_score', 'neg_log_loss', 'neg_mean_absolute_error', 'neg_mean_squared_error', 'neg_mean_squared_log_error', 'neg_median_absolute_error', 'normalized_mutual_info_score', 'precision', 'precision_macro', 'precision_micro', 'precision_samples', 'precision_weighted', 'r2', 'recall', 'recall_macro', 'recall_micro', 'recall_samples', 'recall_weighted', 'roc_auc', 'v_measure_score']\n"
     ]
    }
   ],
   "source": [
    "from sklearn.metrics.scorer import SCORERS\n",
    "print(\"Available scorers:\\n{}\".format(sorted(SCORERS.keys())))"
   ]
  },
  {
   "cell_type": "markdown",
   "metadata": {
    "slideshow": {
     "slide_type": "slide"
    }
   },
   "source": [
    "<center><img src=\"./images/questions.png\" alt=\"Drawing\" style=\"width: 750px;\"/></center>\n"
   ]
  },
  {
   "cell_type": "markdown",
   "metadata": {
    "slideshow": {
     "slide_type": "slide"
    }
   },
   "source": [
    "# Conclusions\n",
    "\n",
    "* Cross-validation or the use of a test set allow us to evaluate a machine learning model as it will perform in the future.\n",
    "* Make sure that the metric you choose to evaluate and select a model for is a good stand-in for what the model will actually be used for."
   ]
  },
  {
   "cell_type": "markdown",
   "metadata": {
    "slideshow": {
     "slide_type": "slide"
    }
   },
   "source": [
    "# Break\n",
    "\n",
    "<center>\n",
    "<img src=\"./images/break.png\" style=\"width:1200px\">\n",
    "</center>"
   ]
  },
  {
   "cell_type": "markdown",
   "metadata": {
    "slideshow": {
     "slide_type": "slide"
    }
   },
   "source": [
    "<center>\n",
    "<img src=\"./images/hmw.png\" style=\"width:1200px\">\n",
    "</center>"
   ]
  },
  {
   "cell_type": "markdown",
   "metadata": {
    "slideshow": {
     "slide_type": "slide"
    }
   },
   "source": [
    "# Homework 3\n",
    "\n",
    "After you have tested some classifiers/regressors on the wines dataset (homework 1), you need to improve your models. Your tasks for this homework are:\n",
    "\n",
    "* Use gridsearch with cross validation to improve **one** of your previously submitted models (Homework 1) for each problem: regression, binary classification and multiclass classification. Select your parameters and scan their possible values properly (hint: use numpy). Report the test set score, best parameters, best cross-validation score and best estimator. What is the improvement with respect to the past results?\n",
    "\n",
    "\n",
    "* For your binary classification problem, use gridsearch and cross-validation with SVC. What is the best kernel? Print the heat map of mean cross-validation score (hint: use the mglearn library), the ROC curve and report the AUC value.\n",
    "\n",
    "\n",
    "* For your binary classification model, repeat the gridsearch with cross validation step using AUC as the evaluation metric. Do the result improves? Elaborate."
   ]
  },
  {
   "cell_type": "markdown",
   "metadata": {
    "slideshow": {
     "slide_type": "slide"
    }
   },
   "source": [
    "You can work in small groups but you should submit your notebook individually. *Deadline 15 of November at midnight.*"
   ]
  },
  {
   "cell_type": "markdown",
   "metadata": {
    "slideshow": {
     "slide_type": "slide"
    }
   },
   "source": [
    "<center>\n",
    "<img src=\"./images/taf.png\" style=\"width:1200px\">\n",
    "</center>"
   ]
  },
  {
   "cell_type": "code",
   "execution_count": null,
   "metadata": {
    "slideshow": {
     "slide_type": "skip"
    }
   },
   "outputs": [],
   "source": []
  }
 ],
 "metadata": {
  "celltoolbar": "Slideshow",
  "kernelspec": {
   "display_name": "Python 3",
   "language": "python",
   "name": "python3"
  },
  "language_info": {
   "codemirror_mode": {
    "name": "ipython",
    "version": 3
   },
   "file_extension": ".py",
   "mimetype": "text/x-python",
   "name": "python",
   "nbconvert_exporter": "python",
   "pygments_lexer": "ipython3",
   "version": "3.7.3"
  },
  "latex_metadata": {
   "author": "Leonardo Espinosa",
   "title": "MLPP: Supervised Learning"
  },
  "livereveal": {
   "overlay": "<div class='myheader'><h2 class='headertekst'>Machine Learning for Predictive Problems. Big Data Analytics Specialization <img src='./images/arcada.png' width='200' height='50'></img></h2><h3 ><a href='#/3/1'>(index)</a></h3></div>",
   "progress": true,
   "scroll": true,
   "theme": "serif",
   "transition": "simple"
  },
  "nbpresent": {
   "slides": {
    "014be348-b754-4daa-81f4-42fde293c543": {
     "id": "014be348-b754-4daa-81f4-42fde293c543",
     "prev": "1858cdd0-cf63-4a7c-8c74-86cf779af9e9",
     "regions": {
      "a08e59d0-9fdb-41da-92d8-04c8b073f384": {
       "attrs": {
        "height": 0.8,
        "width": 0.8,
        "x": 0.1,
        "y": 0.1
       },
       "content": {
        "cell": "a1887145-230d-4452-b425-7c659490b3ef",
        "part": "whole"
       },
       "id": "a08e59d0-9fdb-41da-92d8-04c8b073f384"
      }
     }
    },
    "0219d651-e259-4010-88b4-09484fd38a16": {
     "id": "0219d651-e259-4010-88b4-09484fd38a16",
     "prev": "41000680-b21e-4ccf-9644-8772955aec1e",
     "regions": {
      "d5856e56-4d20-4d18-9024-2f9bbedc3f2b": {
       "attrs": {
        "height": 0.8,
        "width": 0.8,
        "x": 0.1,
        "y": 0.1
       },
       "content": {
        "cell": "458175ff-9c19-4400-b5b1-46d05b2627c8",
        "part": "whole"
       },
       "id": "d5856e56-4d20-4d18-9024-2f9bbedc3f2b"
      }
     }
    },
    "0371e31b-7a96-4efd-b2b3-778e67d9190e": {
     "id": "0371e31b-7a96-4efd-b2b3-778e67d9190e",
     "prev": "9ebc8b4e-f971-4289-95b5-060078c7d29e",
     "regions": {
      "4cb36c72-7f43-46aa-8d62-c79523183fb4": {
       "attrs": {
        "height": 0.8,
        "width": 0.8,
        "x": 0.1,
        "y": 0.1
       },
       "content": {
        "cell": "39576c63-298e-4a6d-ac14-aba4e1c4d006",
        "part": "whole"
       },
       "id": "4cb36c72-7f43-46aa-8d62-c79523183fb4"
      }
     }
    },
    "05eeb8e7-ef49-4780-ad8d-0632791255c0": {
     "id": "05eeb8e7-ef49-4780-ad8d-0632791255c0",
     "prev": "554b57ed-d0f0-4115-96dc-9858cf1ad481",
     "regions": {
      "741aadc7-4a1e-4267-943f-c1198219cc54": {
       "attrs": {
        "height": 0.8,
        "width": 0.8,
        "x": 0.1,
        "y": 0.1
       },
       "content": {
        "cell": "0005f353-4639-4554-905c-8f25c310c224",
        "part": "whole"
       },
       "id": "741aadc7-4a1e-4267-943f-c1198219cc54"
      },
      "e713b6bd-8b1f-4eec-89b1-f67f6f54fde2": {
       "attrs": {
        "height": 0.4,
        "width": 0.8,
        "x": 0.1,
        "y": 0.5
       },
       "content": {
        "cell": "7ed9ca3a-caa0-4617-a62d-a4967e21302e",
        "part": "whole"
       },
       "id": "e713b6bd-8b1f-4eec-89b1-f67f6f54fde2"
      }
     }
    },
    "107bfd92-c9e9-4b5f-8c46-2e49f1c8c9eb": {
     "id": "107bfd92-c9e9-4b5f-8c46-2e49f1c8c9eb",
     "prev": "97b90cc3-f1a3-42a2-af3e-69005b077963",
     "regions": {
      "92533381-89e3-42fe-9049-49f4f3fe1634": {
       "attrs": {
        "height": 0.8,
        "width": 0.8,
        "x": 0.1,
        "y": 0.1
       },
       "content": {
        "cell": "ae20116a-eb68-4cb6-86d0-819b0626bdce",
        "part": "whole"
       },
       "id": "92533381-89e3-42fe-9049-49f4f3fe1634"
      }
     }
    },
    "13c83358-f208-4b33-86c5-8ffb02cdce9b": {
     "id": "13c83358-f208-4b33-86c5-8ffb02cdce9b",
     "prev": "014be348-b754-4daa-81f4-42fde293c543",
     "regions": {
      "83f3f9a2-2123-4499-bade-5f4df5920fbc": {
       "attrs": {
        "height": 0.8,
        "width": 0.8,
        "x": 0.1,
        "y": 0.1
       },
       "content": {
        "cell": "bcb7b795-c864-424e-9be6-684e5b2a15ff",
        "part": "whole"
       },
       "id": "83f3f9a2-2123-4499-bade-5f4df5920fbc"
      }
     }
    },
    "1858cdd0-cf63-4a7c-8c74-86cf779af9e9": {
     "id": "1858cdd0-cf63-4a7c-8c74-86cf779af9e9",
     "prev": "282f5e40-3d4f-470b-bc6a-e49607f04254",
     "regions": {
      "9dcdb146-cac5-4293-b64c-9f275c0ce3f5": {
       "attrs": {
        "height": 0.4,
        "width": 0.8,
        "x": 0.1,
        "y": 0.5
       },
       "content": {
        "cell": "418730a6-6d22-4878-ae29-6d4ef1572ae2",
        "part": "whole"
       },
       "id": "9dcdb146-cac5-4293-b64c-9f275c0ce3f5"
      },
      "cac922a0-c8c9-4393-bc05-c3ec7868881d": {
       "attrs": {
        "height": 0.8,
        "width": 0.8,
        "x": 0.1,
        "y": 0.1
       },
       "content": {
        "cell": "20b08b8f-ef96-420c-90b7-49062d3b0f45",
        "part": "whole"
       },
       "id": "cac922a0-c8c9-4393-bc05-c3ec7868881d"
      }
     }
    },
    "19aca98d-8ef6-43e9-81fd-290f7eed4cec": {
     "id": "19aca98d-8ef6-43e9-81fd-290f7eed4cec",
     "prev": "31428a41-ce52-46f8-a73c-43f4459eea24",
     "regions": {
      "d7bb4feb-df79-4e86-9860-3df0e55a9276": {
       "attrs": {
        "height": 0.8,
        "width": 0.8,
        "x": 0.1,
        "y": 0.1
       },
       "content": {
        "cell": "f03ddf67-607d-43d5-ba04-be2e6a0f134c",
        "part": "whole"
       },
       "id": "d7bb4feb-df79-4e86-9860-3df0e55a9276"
      }
     }
    },
    "2511806f-5451-43cc-85a9-3edd7a6ed442": {
     "id": "2511806f-5451-43cc-85a9-3edd7a6ed442",
     "prev": "fb811617-ca1a-4068-b3f7-4e123530ce63",
     "regions": {
      "8e712448-99c5-4d32-8cc3-5d9a728c3690": {
       "attrs": {
        "height": 0.8,
        "width": 0.8,
        "x": 0.1,
        "y": 0.1
       },
       "content": {
        "cell": "3f6ff5ee-5ed5-4e9a-9e55-c8aa59829485",
        "part": "whole"
       },
       "id": "8e712448-99c5-4d32-8cc3-5d9a728c3690"
      }
     }
    },
    "25623868-c1ab-48ba-9329-af50d67e0cbf": {
     "id": "25623868-c1ab-48ba-9329-af50d67e0cbf",
     "prev": "c4c52179-8db1-4792-9685-a4c14e91b2ab",
     "regions": {
      "bb88e988-603d-4500-a960-70da356406f0": {
       "attrs": {
        "height": 0.8,
        "width": 0.8,
        "x": 0.1,
        "y": 0.1
       },
       "content": {
        "cell": "00d38547-0a6c-4c96-ac2f-aed0524ef66c",
        "part": "whole"
       },
       "id": "bb88e988-603d-4500-a960-70da356406f0"
      }
     }
    },
    "258ed8e1-28ee-4363-9cbc-bb124fe0f24c": {
     "id": "258ed8e1-28ee-4363-9cbc-bb124fe0f24c",
     "layout": "manual",
     "prev": "5ab96323-7bc9-4f9f-8240-e1a899fc1048",
     "regions": {
      "0a9a19eb-86d9-46ee-9bd9-a66b500e7dfc": {
       "attrs": {
        "height": 1,
        "pad": 0.01,
        "treemap:weight": 1,
        "width": 0.5,
        "x": 0,
        "y": 0
       },
       "content": {
        "cell": "95ee1be4-4a90-4463-9b42-9c86c8415046",
        "part": "whole"
       },
       "id": "0a9a19eb-86d9-46ee-9bd9-a66b500e7dfc"
      },
      "62147765-d1bc-4c42-b7d1-ddf5babbc479": {
       "attrs": {
        "height": 0.8,
        "width": 0.8,
        "x": 0.1,
        "y": 0.1
       },
       "id": "62147765-d1bc-4c42-b7d1-ddf5babbc479"
      },
      "b7dbfea6-fde7-443c-a541-ce85fece0dea": {
       "attrs": {
        "height": 1,
        "pad": 0.01,
        "treemap:weight": 1,
        "width": 0.5,
        "x": 0.5,
        "y": 0
       },
       "content": {
        "cell": "6bf31f5d-6aa9-476b-9313-54d1c8fa73ad",
        "part": "whole"
       },
       "id": "b7dbfea6-fde7-443c-a541-ce85fece0dea"
      }
     }
    },
    "282f5e40-3d4f-470b-bc6a-e49607f04254": {
     "id": "282f5e40-3d4f-470b-bc6a-e49607f04254",
     "prev": "fb729f7e-ea2e-40af-b676-5c44bca7b9a5",
     "regions": {
      "cc5c8ccb-8e9e-4307-af3c-4d2d7f523c94": {
       "attrs": {
        "height": 0.8,
        "width": 0.8,
        "x": 0.1,
        "y": 0.1
       },
       "content": {
        "cell": "7832eee9-dc9d-44f6-8fce-46ccbe3fa960",
        "part": "whole"
       },
       "id": "cc5c8ccb-8e9e-4307-af3c-4d2d7f523c94"
      }
     }
    },
    "31428a41-ce52-46f8-a73c-43f4459eea24": {
     "id": "31428a41-ce52-46f8-a73c-43f4459eea24",
     "prev": "25623868-c1ab-48ba-9329-af50d67e0cbf",
     "regions": {
      "8ae786b8-48c0-43da-9c80-761e50402825": {
       "attrs": {
        "height": 0.8,
        "width": 0.8,
        "x": 0.1,
        "y": 0.1
       },
       "content": {
        "cell": "3c6e0171-18a6-4adb-a81c-3dd1872e877a",
        "part": "whole"
       },
       "id": "8ae786b8-48c0-43da-9c80-761e50402825"
      }
     }
    },
    "37a2dfd8-a911-4034-b499-9e2da3455a1b": {
     "id": "37a2dfd8-a911-4034-b499-9e2da3455a1b",
     "prev": "c85b7fdc-1ffe-43a7-ae64-c1e5b259a956",
     "regions": {
      "46abc3fe-59fb-44c7-8f48-a878ae3a6a35": {
       "attrs": {
        "height": 0.4,
        "width": 0.8,
        "x": 0.1,
        "y": 0.5
       },
       "content": {
        "cell": "54f0b15e-8041-463e-9682-a3cbee3af133",
        "part": "whole"
       },
       "id": "46abc3fe-59fb-44c7-8f48-a878ae3a6a35"
      },
      "ae1dac8c-2a19-4c9f-b7c0-fccf5f0d23be": {
       "attrs": {
        "height": 0.8,
        "width": 0.8,
        "x": 0.1,
        "y": 0.1
       },
       "content": {
        "cell": "5a3c94ba-305b-4a76-8d8e-b3f2d755fc05",
        "part": "whole"
       },
       "id": "ae1dac8c-2a19-4c9f-b7c0-fccf5f0d23be"
      },
      "fbd83a26-f0d4-45ca-8735-b75c9528b302": {
       "attrs": {
        "height": 0.4,
        "width": 0.8,
        "x": 0.1,
        "y": 0.5
       },
       "content": {
        "cell": "224ccbd9-f64c-4f64-9454-b8ed8e81030e",
        "part": "whole"
       },
       "id": "fbd83a26-f0d4-45ca-8735-b75c9528b302"
      }
     }
    },
    "3a97f4b2-51ee-4b5b-8cd3-0e44cd064df2": {
     "id": "3a97f4b2-51ee-4b5b-8cd3-0e44cd064df2",
     "prev": "3b39120d-1d65-4fa3-a5c0-26d9a4096217",
     "regions": {
      "6e3c9017-bd88-4981-a9c0-0b2dd09fb257": {
       "attrs": {
        "height": 0.8,
        "width": 0.8,
        "x": 0.1,
        "y": 0.1
       },
       "content": {
        "cell": "fd25ebff-a98e-4734-a4f4-da2894548ca1",
        "part": "whole"
       },
       "id": "6e3c9017-bd88-4981-a9c0-0b2dd09fb257"
      }
     }
    },
    "3b39120d-1d65-4fa3-a5c0-26d9a4096217": {
     "id": "3b39120d-1d65-4fa3-a5c0-26d9a4096217",
     "prev": "a2365a88-c2e4-476a-b031-122abe3e67d4",
     "regions": {
      "719b76f1-7348-43c2-861b-790273f78644": {
       "attrs": {
        "height": 0.8,
        "width": 0.8,
        "x": 0.1,
        "y": 0.1
       },
       "content": {
        "cell": "de02f45b-586f-4b55-8b9b-04319b0fcb4f",
        "part": "whole"
       },
       "id": "719b76f1-7348-43c2-861b-790273f78644"
      }
     }
    },
    "41000680-b21e-4ccf-9644-8772955aec1e": {
     "id": "41000680-b21e-4ccf-9644-8772955aec1e",
     "prev": "05eeb8e7-ef49-4780-ad8d-0632791255c0",
     "regions": {
      "73da3922-ea84-4270-a5ac-af27cdc5a67e": {
       "attrs": {
        "height": 0.8,
        "width": 0.8,
        "x": 0.1,
        "y": 0.1
       },
       "content": {
        "cell": "5933f028-0f50-49f3-84dd-381ffa720c55",
        "part": "whole"
       },
       "id": "73da3922-ea84-4270-a5ac-af27cdc5a67e"
      }
     }
    },
    "451a5897-34b9-4da2-920c-8dd96f32cc8a": {
     "id": "451a5897-34b9-4da2-920c-8dd96f32cc8a",
     "prev": "66ff46b7-5835-4358-ab8e-c503b4c53904",
     "regions": {
      "e73c25b9-7634-436a-817c-f6864b3e1690": {
       "attrs": {
        "height": 0.8,
        "width": 0.8,
        "x": 0.1,
        "y": 0.1
       },
       "content": {
        "cell": "46bd3e13-ee52-495d-847d-873607277dbc",
        "part": "whole"
       },
       "id": "e73c25b9-7634-436a-817c-f6864b3e1690"
      }
     }
    },
    "459b6f7a-87a1-4a1f-8939-9653f8ab19b6": {
     "id": "459b6f7a-87a1-4a1f-8939-9653f8ab19b6",
     "prev": "b7600779-3783-4f60-af06-d97c5f87256a",
     "regions": {
      "0a7f5843-01ab-4006-a14d-bd76027e95da": {
       "attrs": {
        "height": 0.4,
        "width": 0.8,
        "x": 0.1,
        "y": 0.5
       },
       "content": {
        "cell": "4e8f5a45-9cc5-4f07-85c2-7e65e24dfbbd",
        "part": "whole"
       },
       "id": "0a7f5843-01ab-4006-a14d-bd76027e95da"
      },
      "0dc3f995-8f28-4a33-85cc-6e0902829d78": {
       "attrs": {
        "height": 0.4,
        "width": 0.8,
        "x": 0.1,
        "y": 0.5
       },
       "content": {
        "cell": "cd605493-3e21-4ca0-8823-eb6f63af6081",
        "part": "whole"
       },
       "id": "0dc3f995-8f28-4a33-85cc-6e0902829d78"
      },
      "135e5744-e973-4a6f-a80b-e6dec2cc84b1": {
       "attrs": {
        "height": 0.8,
        "width": 0.8,
        "x": 0.1,
        "y": 0.1
       },
       "content": {
        "cell": "284aeb6d-45b2-4121-a0c7-bbe35a220f02",
        "part": "whole"
       },
       "id": "135e5744-e973-4a6f-a80b-e6dec2cc84b1"
      },
      "76967cdd-e67d-43f3-a687-4a5e3ae75f2a": {
       "attrs": {
        "height": 0.4,
        "width": 0.8,
        "x": 0.1,
        "y": 0.5
       },
       "content": {
        "cell": "6aad3d75-e549-409c-83c3-a651df52e65f",
        "part": "whole"
       },
       "id": "76967cdd-e67d-43f3-a687-4a5e3ae75f2a"
      },
      "e1be0eef-ee89-49d6-89ee-fa214dfab287": {
       "attrs": {
        "height": 0.4,
        "width": 0.8,
        "x": 0.1,
        "y": 0.5
       },
       "content": {
        "cell": "f4388a81-cd22-49d1-be8e-9f9169051761",
        "part": "whole"
       },
       "id": "e1be0eef-ee89-49d6-89ee-fa214dfab287"
      }
     }
    },
    "554b57ed-d0f0-4115-96dc-9858cf1ad481": {
     "id": "554b57ed-d0f0-4115-96dc-9858cf1ad481",
     "prev": "9981580b-bc34-4378-b713-b4e46ed703e2",
     "regions": {
      "3fa04684-3035-4280-9c01-b6f2f3205806": {
       "attrs": {
        "height": 0.4,
        "width": 0.8,
        "x": 0.1,
        "y": 0.5
       },
       "content": {
        "cell": "c11eff5e-84d0-488d-9c42-c55ed2c3a046",
        "part": "whole"
       },
       "id": "3fa04684-3035-4280-9c01-b6f2f3205806"
      },
      "aefdd3b5-ed93-40a5-9f82-1d076b043537": {
       "attrs": {
        "height": 0.8,
        "width": 0.8,
        "x": 0.1,
        "y": 0.1
       },
       "content": {
        "cell": "5eef5b52-3f7b-4597-ad9e-493ea9fb6246",
        "part": "whole"
       },
       "id": "aefdd3b5-ed93-40a5-9f82-1d076b043537"
      }
     }
    },
    "5ab96323-7bc9-4f9f-8240-e1a899fc1048": {
     "id": "5ab96323-7bc9-4f9f-8240-e1a899fc1048",
     "prev": "5e60026b-b9af-47c8-845a-5fc031fd664b",
     "regions": {
      "9b9df491-7fce-4574-8c5e-dd7e0f591cfb": {
       "attrs": {
        "height": 0.4,
        "width": 0.8,
        "x": 0.1,
        "y": 0.5
       },
       "content": {
        "cell": "3a5d1f05-c830-4a15-84b9-b67f6a804eb8",
        "part": "whole"
       },
       "id": "9b9df491-7fce-4574-8c5e-dd7e0f591cfb"
      },
      "dc6aedca-e6c0-4f2c-bb60-b56d92195d16": {
       "attrs": {
        "height": 0.4,
        "width": 0.8,
        "x": 0.1,
        "y": 0.5
       },
       "content": {
        "cell": "b3f50ad3-db86-455a-9030-3a812b3c0727",
        "part": "whole"
       },
       "id": "dc6aedca-e6c0-4f2c-bb60-b56d92195d16"
      },
      "f3662be5-72bd-4548-ba94-9b165145b67d": {
       "attrs": {
        "height": 0.8,
        "width": 0.8,
        "x": 0.1,
        "y": 0.1
       },
       "content": {
        "cell": "b4f8d087-224e-4b94-a836-098b2bbcae17",
        "part": "whole"
       },
       "id": "f3662be5-72bd-4548-ba94-9b165145b67d"
      }
     }
    },
    "5d660f05-2fc9-4e2b-a977-f6584aeb6a63": {
     "id": "5d660f05-2fc9-4e2b-a977-f6584aeb6a63",
     "prev": "d6013b45-72ea-411e-8d3b-cf9c7fc4f751",
     "regions": {
      "a5446025-1541-4e61-bbb4-3822ae707e45": {
       "attrs": {
        "height": 0.8,
        "width": 0.8,
        "x": 0.1,
        "y": 0.1
       },
       "content": {
        "cell": "99fb9fd7-4894-4436-a3a4-d4c8cc4d4716",
        "part": "whole"
       },
       "id": "a5446025-1541-4e61-bbb4-3822ae707e45"
      }
     }
    },
    "5e60026b-b9af-47c8-845a-5fc031fd664b": {
     "id": "5e60026b-b9af-47c8-845a-5fc031fd664b",
     "prev": "37a2dfd8-a911-4034-b499-9e2da3455a1b",
     "regions": {
      "a893ea7d-056d-40cc-8a74-6176a5acacc8": {
       "attrs": {
        "height": 0.8,
        "width": 0.8,
        "x": 0.1,
        "y": 0.1
       },
       "content": {
        "cell": "54ac1cd8-248d-4742-a7cb-985267a418d3",
        "part": "whole"
       },
       "id": "a893ea7d-056d-40cc-8a74-6176a5acacc8"
      },
      "df9a9a6a-1378-4546-bb9a-8959e13d77d8": {
       "attrs": {
        "height": 0.4,
        "width": 0.8,
        "x": 0.1,
        "y": 0.5
       },
       "content": {
        "cell": "6e73c082-189f-456b-9eca-a27a3823930d",
        "part": "whole"
       },
       "id": "df9a9a6a-1378-4546-bb9a-8959e13d77d8"
      }
     }
    },
    "66ff46b7-5835-4358-ab8e-c503b4c53904": {
     "id": "66ff46b7-5835-4358-ab8e-c503b4c53904",
     "prev": "e66f5185-9469-45fa-904c-3f8a60bc1f55",
     "regions": {
      "de7dde70-1155-4a62-9d9f-f6581e87eb07": {
       "attrs": {
        "height": 0.8,
        "width": 0.8,
        "x": 0.1,
        "y": 0.1
       },
       "content": {
        "cell": "2564c16a-8437-4ca7-a63d-82789db10af7",
        "part": "whole"
       },
       "id": "de7dde70-1155-4a62-9d9f-f6581e87eb07"
      }
     }
    },
    "8b36fd9b-9fe1-4f13-8c72-0a74ba4dfb94": {
     "id": "8b36fd9b-9fe1-4f13-8c72-0a74ba4dfb94",
     "prev": "be908c4c-60b5-4a54-a442-22fc105c606a",
     "regions": {
      "64e1e741-4296-4161-a4e2-78ffed665330": {
       "attrs": {
        "height": 0.8,
        "width": 0.8,
        "x": 0.1,
        "y": 0.1
       },
       "content": {
        "cell": "9bd41e05-91ea-4bce-8884-cf240321fa7d",
        "part": "whole"
       },
       "id": "64e1e741-4296-4161-a4e2-78ffed665330"
      }
     }
    },
    "8be5198b-40c4-4731-b6bb-c7c0df02f701": {
     "id": "8be5198b-40c4-4731-b6bb-c7c0df02f701",
     "prev": "c4f0c568-ef37-411d-b5f2-7be1fc430e69",
     "regions": {
      "51a2c53f-1ae0-43b5-8346-aaebc03b241f": {
       "attrs": {
        "height": 0.8,
        "width": 0.8,
        "x": 0.1,
        "y": 0.1
       },
       "content": {
        "cell": "be5e8221-9a6f-4c72-8fc9-c6fd552dbc1e",
        "part": "whole"
       },
       "id": "51a2c53f-1ae0-43b5-8346-aaebc03b241f"
      }
     }
    },
    "97b90cc3-f1a3-42a2-af3e-69005b077963": {
     "id": "97b90cc3-f1a3-42a2-af3e-69005b077963",
     "prev": "451a5897-34b9-4da2-920c-8dd96f32cc8a",
     "regions": {
      "042b49f1-70e7-4114-a32a-841eb1499fab": {
       "attrs": {
        "height": 0.4,
        "width": 0.8,
        "x": 0.1,
        "y": 0.5
       },
       "content": {
        "cell": "c4ec721c-2942-42d9-a1e4-2c621eb12fb9",
        "part": "whole"
       },
       "id": "042b49f1-70e7-4114-a32a-841eb1499fab"
      },
      "f359b581-265f-4fcc-8d94-ae036d9b4777": {
       "attrs": {
        "height": 0.8,
        "width": 0.8,
        "x": 0.1,
        "y": 0.1
       },
       "content": {
        "cell": "43e9b8d9-0f53-40f3-b8d9-c5b60fad5133",
        "part": "whole"
       },
       "id": "f359b581-265f-4fcc-8d94-ae036d9b4777"
      }
     }
    },
    "9981580b-bc34-4378-b713-b4e46ed703e2": {
     "id": "9981580b-bc34-4378-b713-b4e46ed703e2",
     "prev": "a0fb3c89-ada2-4f68-928b-12cb2ce39825",
     "regions": {
      "6f3ffff1-309d-40d9-a280-ec9e36ba8b32": {
       "attrs": {
        "height": 0.8,
        "width": 0.8,
        "x": 0.1,
        "y": 0.1
       },
       "content": {
        "cell": "52e28ee0-6d22-4de4-b8cb-489b3266bd58",
        "part": "whole"
       },
       "id": "6f3ffff1-309d-40d9-a280-ec9e36ba8b32"
      }
     }
    },
    "9ebc8b4e-f971-4289-95b5-060078c7d29e": {
     "id": "9ebc8b4e-f971-4289-95b5-060078c7d29e",
     "prev": null,
     "regions": {
      "5768bed8-28e4-4ffa-8bea-dfe66a7e5f1b": {
       "attrs": {
        "height": 0.8,
        "width": 0.8,
        "x": 0.1,
        "y": 0.1
       },
       "content": {
        "cell": "0643112e-3cbf-4fd0-afb8-54aeffe3fe93",
        "part": "whole"
       },
       "id": "5768bed8-28e4-4ffa-8bea-dfe66a7e5f1b"
      }
     },
     "theme": null
    },
    "a0fb3c89-ada2-4f68-928b-12cb2ce39825": {
     "id": "a0fb3c89-ada2-4f68-928b-12cb2ce39825",
     "prev": "2511806f-5451-43cc-85a9-3edd7a6ed442",
     "regions": {
      "12ad43e4-7e95-44a8-afde-b689201191f5": {
       "attrs": {
        "height": 0.8,
        "width": 0.8,
        "x": 0.1,
        "y": 0.1
       },
       "content": {
        "cell": "b2a92366-f696-4e15-a744-b45ab7986ff3",
        "part": "whole"
       },
       "id": "12ad43e4-7e95-44a8-afde-b689201191f5"
      }
     }
    },
    "a2365a88-c2e4-476a-b031-122abe3e67d4": {
     "id": "a2365a88-c2e4-476a-b031-122abe3e67d4",
     "prev": "cd20bc66-e3e4-4efd-889e-b24fcc8226fc",
     "regions": {
      "cbebee48-8247-423a-939e-65c6d07cc96a": {
       "attrs": {
        "height": 0.8,
        "width": 0.8,
        "x": 0.1,
        "y": 0.1
       },
       "content": {
        "cell": "ca50e6f1-b3eb-4396-8e0a-be52b069f162",
        "part": "whole"
       },
       "id": "cbebee48-8247-423a-939e-65c6d07cc96a"
      }
     }
    },
    "a8a627b7-91f7-4b8f-8fb4-d59449cf05e5": {
     "id": "a8a627b7-91f7-4b8f-8fb4-d59449cf05e5",
     "prev": "b8a2577d-1715-4301-8bc6-b7c833c06a2f",
     "regions": {
      "25f4f1fa-41d6-4236-8fcf-fab2c572a8a8": {
       "attrs": {
        "height": 0.8,
        "width": 0.8,
        "x": 0.1,
        "y": 0.1
       },
       "content": {
        "cell": "638e3833-24a8-4b69-af6b-e29c79f63b2a",
        "part": "whole"
       },
       "id": "25f4f1fa-41d6-4236-8fcf-fab2c572a8a8"
      },
      "d0326a00-6cb9-48ea-a4c8-6a3f1ae67254": {
       "attrs": {
        "height": 0.4,
        "width": 0.8,
        "x": 0.1,
        "y": 0.5
       },
       "content": {
        "cell": "354618e2-6431-4f78-b0d9-f9d6c4e27cbb",
        "part": "whole"
       },
       "id": "d0326a00-6cb9-48ea-a4c8-6a3f1ae67254"
      }
     }
    },
    "b7600779-3783-4f60-af06-d97c5f87256a": {
     "id": "b7600779-3783-4f60-af06-d97c5f87256a",
     "prev": "a8a627b7-91f7-4b8f-8fb4-d59449cf05e5",
     "regions": {
      "340652a9-4281-466a-b648-49baf16a3d86": {
       "attrs": {
        "height": 0.4,
        "width": 0.8,
        "x": 0.1,
        "y": 0.5
       },
       "content": {
        "cell": "eea136b7-17a2-4402-a3f0-970b981627ee",
        "part": "whole"
       },
       "id": "340652a9-4281-466a-b648-49baf16a3d86"
      },
      "f7839af3-5edc-4ec2-b304-3aced6cca65c": {
       "attrs": {
        "height": 0.8,
        "width": 0.8,
        "x": 0.1,
        "y": 0.1
       },
       "content": {
        "cell": "e7bce1ec-9fd1-4d0b-b65c-51e051842ca2",
        "part": "whole"
       },
       "id": "f7839af3-5edc-4ec2-b304-3aced6cca65c"
      }
     }
    },
    "b8a2577d-1715-4301-8bc6-b7c833c06a2f": {
     "id": "b8a2577d-1715-4301-8bc6-b7c833c06a2f",
     "prev": "107bfd92-c9e9-4b5f-8c46-2e49f1c8c9eb",
     "regions": {
      "0a7105cf-ade6-4089-9961-40ca2f51d2a4": {
       "attrs": {
        "height": 0.8,
        "width": 0.8,
        "x": 0.1,
        "y": 0.1
       },
       "content": {
        "cell": "e9d10ac4-5924-4b8d-889d-e9119c8444ea",
        "part": "whole"
       },
       "id": "0a7105cf-ade6-4089-9961-40ca2f51d2a4"
      }
     }
    },
    "be908c4c-60b5-4a54-a442-22fc105c606a": {
     "id": "be908c4c-60b5-4a54-a442-22fc105c606a",
     "prev": "13c83358-f208-4b33-86c5-8ffb02cdce9b",
     "regions": {
      "37fef285-9d4a-400b-99e2-d791195fa4fb": {
       "attrs": {
        "height": 0.8,
        "width": 0.8,
        "x": 0.1,
        "y": 0.1
       },
       "content": {
        "cell": "e0b9018c-8184-4eb9-ba8b-01bf3225e168",
        "part": "whole"
       },
       "id": "37fef285-9d4a-400b-99e2-d791195fa4fb"
      }
     }
    },
    "c4c52179-8db1-4792-9685-a4c14e91b2ab": {
     "id": "c4c52179-8db1-4792-9685-a4c14e91b2ab",
     "prev": "0219d651-e259-4010-88b4-09484fd38a16",
     "regions": {
      "c770c4c9-61c6-416f-81ca-408d12c1ad1c": {
       "attrs": {
        "height": 0.8,
        "width": 0.8,
        "x": 0.1,
        "y": 0.1
       },
       "content": {
        "cell": "e08fda87-8647-4459-a809-abbdcf18ebfe",
        "part": "whole"
       },
       "id": "c770c4c9-61c6-416f-81ca-408d12c1ad1c"
      }
     }
    },
    "c4f0c568-ef37-411d-b5f2-7be1fc430e69": {
     "id": "c4f0c568-ef37-411d-b5f2-7be1fc430e69",
     "prev": "258ed8e1-28ee-4363-9cbc-bb124fe0f24c",
     "regions": {
      "a0b4fd37-0e96-482d-912a-ffce7e534684": {
       "attrs": {
        "height": 0.4,
        "width": 0.8,
        "x": 0.1,
        "y": 0.5
       },
       "content": {
        "cell": "f6a71069-9e93-4a7d-9b0c-7e3a77501f84",
        "part": "whole"
       },
       "id": "a0b4fd37-0e96-482d-912a-ffce7e534684"
      },
      "fb1408ab-be50-4713-aaaf-327c3032df42": {
       "attrs": {
        "height": 0.8,
        "width": 0.8,
        "x": 0.1,
        "y": 0.1
       },
       "content": {
        "cell": "57f23b1b-15c8-460b-82bd-87a60624dc34",
        "part": "whole"
       },
       "id": "fb1408ab-be50-4713-aaaf-327c3032df42"
      }
     }
    },
    "c85b7fdc-1ffe-43a7-ae64-c1e5b259a956": {
     "id": "c85b7fdc-1ffe-43a7-ae64-c1e5b259a956",
     "prev": "459b6f7a-87a1-4a1f-8939-9653f8ab19b6",
     "regions": {
      "1c4411d6-6aa3-4a1e-8f13-df1a1a1412af": {
       "attrs": {
        "height": 0.4,
        "width": 0.8,
        "x": 0.1,
        "y": 0.5
       },
       "content": {
        "cell": "cd546b22-a23d-4dc4-8962-54c9a14ea0af",
        "part": "whole"
       },
       "id": "1c4411d6-6aa3-4a1e-8f13-df1a1a1412af"
      },
      "d3a7ee9d-3baa-4d5f-9462-cf330e2bbb9d": {
       "attrs": {
        "height": 0.4,
        "width": 0.8,
        "x": 0.1,
        "y": 0.5
       },
       "content": {
        "cell": "05f5a4ab-7da0-4269-9aaa-9c99de3ce3f0",
        "part": "whole"
       },
       "id": "d3a7ee9d-3baa-4d5f-9462-cf330e2bbb9d"
      },
      "eecafe82-f58a-4a9f-ad24-edcd5ae8a414": {
       "attrs": {
        "height": 0.8,
        "width": 0.8,
        "x": 0.1,
        "y": 0.1
       },
       "content": {
        "cell": "b884e1ce-ada2-4065-aa11-dd0d783166fa",
        "part": "whole"
       },
       "id": "eecafe82-f58a-4a9f-ad24-edcd5ae8a414"
      }
     }
    },
    "cd20bc66-e3e4-4efd-889e-b24fcc8226fc": {
     "id": "cd20bc66-e3e4-4efd-889e-b24fcc8226fc",
     "prev": "8be5198b-40c4-4731-b6bb-c7c0df02f701",
     "regions": {
      "7c8c0ba4-4ef9-4db1-a778-f7361ff666fe": {
       "attrs": {
        "height": 0.8,
        "width": 0.8,
        "x": 0.1,
        "y": 0.1
       },
       "content": {
        "cell": "55070123-ac6f-4896-94de-d50a98dfc37b",
        "part": "whole"
       },
       "id": "7c8c0ba4-4ef9-4db1-a778-f7361ff666fe"
      }
     }
    },
    "d20cb590-23a1-43cf-a74f-b4eb887f277c": {
     "id": "d20cb590-23a1-43cf-a74f-b4eb887f277c",
     "prev": "3a97f4b2-51ee-4b5b-8cd3-0e44cd064df2",
     "regions": {
      "30713b08-b536-4c17-8ad8-db7a8a5c6444": {
       "attrs": {
        "height": 0.8,
        "width": 0.8,
        "x": 0.1,
        "y": 0.1
       },
       "content": {
        "cell": "02993a7a-6a16-4b57-b2b7-b28c4f392877",
        "part": "whole"
       },
       "id": "30713b08-b536-4c17-8ad8-db7a8a5c6444"
      }
     }
    },
    "d6013b45-72ea-411e-8d3b-cf9c7fc4f751": {
     "id": "d6013b45-72ea-411e-8d3b-cf9c7fc4f751",
     "prev": "0371e31b-7a96-4efd-b2b3-778e67d9190e",
     "regions": {
      "bbd27922-09cb-40f9-aac9-d34d8e7d206c": {
       "attrs": {
        "height": 0.8,
        "width": 0.8,
        "x": 0.1,
        "y": 0.1
       },
       "content": {
        "cell": "a089a6f8-158b-483a-8f20-71af2d3f96d7",
        "part": "whole"
       },
       "id": "bbd27922-09cb-40f9-aac9-d34d8e7d206c"
      }
     }
    },
    "e5b820bd-e7e0-4d0f-a7c0-fa076c3c54ad": {
     "id": "e5b820bd-e7e0-4d0f-a7c0-fa076c3c54ad",
     "prev": "f89b63b4-122c-427f-a469-4f7fb3dd16b3",
     "regions": {
      "8a43e080-e855-4c13-8b7a-aaf04b55061a": {
       "attrs": {
        "height": 0.8,
        "width": 0.8,
        "x": 0.1,
        "y": 0.1
       },
       "content": {
        "cell": "865aabe8-fa7a-42c6-821e-284e7d1eac20",
        "part": "whole"
       },
       "id": "8a43e080-e855-4c13-8b7a-aaf04b55061a"
      }
     }
    },
    "e66f5185-9469-45fa-904c-3f8a60bc1f55": {
     "id": "e66f5185-9469-45fa-904c-3f8a60bc1f55",
     "prev": "19aca98d-8ef6-43e9-81fd-290f7eed4cec",
     "regions": {
      "f7451a75-2e26-4d8f-96f8-8d045d2ea59b": {
       "attrs": {
        "height": 0.8,
        "width": 0.8,
        "x": 0.1,
        "y": 0.1
       },
       "content": {
        "cell": "6f63fa54-d56f-434f-943f-be2a6f0e3d05",
        "part": "whole"
       },
       "id": "f7451a75-2e26-4d8f-96f8-8d045d2ea59b"
      }
     }
    },
    "f89b63b4-122c-427f-a469-4f7fb3dd16b3": {
     "id": "f89b63b4-122c-427f-a469-4f7fb3dd16b3",
     "prev": "5d660f05-2fc9-4e2b-a977-f6584aeb6a63",
     "regions": {
      "ee2afadf-d97a-4e98-92e6-f62e8ef382f4": {
       "attrs": {
        "height": 0.8,
        "width": 0.8,
        "x": 0.1,
        "y": 0.1
       },
       "content": {
        "cell": "1a2123db-9495-46fd-8b45-2793922819d4",
        "part": "whole"
       },
       "id": "ee2afadf-d97a-4e98-92e6-f62e8ef382f4"
      }
     }
    },
    "fb729f7e-ea2e-40af-b676-5c44bca7b9a5": {
     "id": "fb729f7e-ea2e-40af-b676-5c44bca7b9a5",
     "prev": "e5b820bd-e7e0-4d0f-a7c0-fa076c3c54ad",
     "regions": {
      "8aa22b01-56c9-45c7-8676-0aa4e5cbb462": {
       "attrs": {
        "height": 0.8,
        "width": 0.8,
        "x": 0.1,
        "y": 0.1
       },
       "content": {
        "cell": "4c0046b6-ffb7-4e8a-8b52-74d9acb5bb76",
        "part": "whole"
       },
       "id": "8aa22b01-56c9-45c7-8676-0aa4e5cbb462"
      }
     }
    },
    "fb811617-ca1a-4068-b3f7-4e123530ce63": {
     "id": "fb811617-ca1a-4068-b3f7-4e123530ce63",
     "prev": "8b36fd9b-9fe1-4f13-8c72-0a74ba4dfb94",
     "regions": {
      "967a1e60-5e01-45c5-ab7b-83e82b358f60": {
       "attrs": {
        "height": 0.8,
        "width": 0.8,
        "x": 0.1,
        "y": 0.1
       },
       "content": {
        "cell": "9c430ab5-7187-41af-b53b-ef9faeda2d13",
        "part": "whole"
       },
       "id": "967a1e60-5e01-45c5-ab7b-83e82b358f60"
      }
     }
    }
   },
   "themes": {}
  }
 },
 "nbformat": 4,
 "nbformat_minor": 1
}
